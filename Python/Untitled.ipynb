{
 "cells": [
  {
   "cell_type": "code",
   "execution_count": 18,
   "metadata": {
    "collapsed": false
   },
   "outputs": [
    {
     "name": "stdout",
     "output_type": "stream",
     "text": [
      "<__main__.sedancar object at 0x7fca10206690>\n",
      "{'mpg': 35, 'make': 'honda', 'year': '2007'}\n",
      "{'__module__': '__main__', 'cartype': 'sedan', '__dict__': <attribute '__dict__' of 'sedancar' objects>, '__weakref__': <attribute '__weakref__' of 'sedancar' objects>, '__doc__': None, '__init__': <function __init__ at 0x7fca10205758>}\n",
      "True\n",
      "sedan\n"
     ]
    }
   ],
   "source": [
    "i = 0\n",
    "isinstance(i,int)\n",
    "\n",
    "class sedancar(object):\n",
    "    cartype='sedan'\n",
    "    def __init__(self,make,year,mpg):\n",
    "        self.make=make\n",
    "        self.year=year\n",
    "        self.mpg=mpg\n",
    "hondacity=sedancar('honda','2007',35)\n",
    "nissanaltima=sedancar('nissan','2007',30)\n",
    "print hondacity\n",
    "print hondacity.__dict__\n",
    "print sedancar.__dict__\n",
    "print isinstance(hondacity,sedancar)\n",
    "print hondacity.cartype"
   ]
  },
  {
   "cell_type": "code",
   "execution_count": 4,
   "metadata": {
    "collapsed": false
   },
   "outputs": [
    {
     "name": "stdout",
     "output_type": "stream",
     "text": [
      "3 3\n",
      "True True\n",
      "Help on wrapper_descriptor:\n",
      "\n",
      "__len__(...)\n",
      "    x.__len__() <==> len(x)\n",
      "\n",
      "None\n",
      "Help on wrapper_descriptor:\n",
      "\n",
      "__lt__(...)\n",
      "    x.__lt__(y) <==> x<y\n",
      "\n",
      "None\n"
     ]
    }
   ],
   "source": [
    "a = \"asd\"\n",
    "b = \"qw\"\n",
    "print a.__len__(),len(a)\n",
    "print a < b, a.__lt__(b)\n",
    "print help(str.__len__)\n",
    "print help(str.__lt__)\n",
    "\n",
    "class str(object):\n",
    "    #def __init__\n",
    "    def __lt__(self,another_str):\n",
    "        return self < another_str\n",
    "    def __len__(self):\n",
    "        return len(self)"
   ]
  },
  {
   "cell_type": "code",
   "execution_count": 18,
   "metadata": {
    "collapsed": false
   },
   "outputs": [
    {
     "name": "stdout",
     "output_type": "stream",
     "text": [
      "5 10 3\n",
      "['__doc__', '__module__', 'aa', 'blah']\n",
      "['__doc__', '__module__', 'blah']\n",
      "9 8 7 6 5 4 3 2 1 0\n",
      "9 8 7 6 5 4 3 2 1 0\n"
     ]
    }
   ],
   "source": [
    "def temp(x,y,z):\n",
    "    print x,y,z\n",
    "    return x*y*z\n",
    "a,b,c=5,10,3\n",
    "temp(a,b,c)\n",
    "class TT:\n",
    "    def blah(self):\n",
    "        pass\n",
    "    pass\n",
    "tt = TT()\n",
    "bb = TT()\n",
    "tt.aa=5\n",
    "print dir(tt)\n",
    "print dir(bb)\n",
    "\n",
    "print \" \".join(map(str,reversed(range(10))))\n",
    "print reduce(lambda x,y: str(x)+\" \"+str(y), reversed(range(10)))"
   ]
  },
  {
   "cell_type": "code",
   "execution_count": 20,
   "metadata": {
    "collapsed": false
   },
   "outputs": [
    {
     "data": {
      "text/plain": [
       "'1 2 3'"
      ]
     },
     "execution_count": 20,
     "metadata": {},
     "output_type": "execute_result"
    }
   ],
   "source": [
    "str(1)+\" \"+str(2)+\" \" +str(3)"
   ]
  },
  {
   "cell_type": "code",
   "execution_count": 23,
   "metadata": {
    "collapsed": false
   },
   "outputs": [
    {
     "data": {
      "text/plain": [
       "2.23606797749979"
      ]
     },
     "execution_count": 23,
     "metadata": {},
     "output_type": "execute_result"
    }
   ],
   "source": [
    "import math\n",
    "math.sqrt(5)\n",
    "math.ceil"
   ]
  },
  {
   "cell_type": "code",
   "execution_count": 24,
   "metadata": {
    "collapsed": false
   },
   "outputs": [
    {
     "data": {
      "text/plain": [
       "{0: 5, 2: 3, 3: 7, 4: 2}"
      ]
     },
     "execution_count": 24,
     "metadata": {},
     "output_type": "execute_result"
    }
   ],
   "source": [
    "dict(zip([0,2,3,2,4],[5,6,7,3,2]))"
   ]
  },
  {
   "cell_type": "code",
   "execution_count": 14,
   "metadata": {
    "collapsed": false
   },
   "outputs": [
    {
     "data": {
      "text/plain": [
       "('2017-05-06 09:00:28.888955', datetime.datetime(2017, 5, 6, 9, 0, 28, 888985))"
      ]
     },
     "execution_count": 14,
     "metadata": {},
     "output_type": "execute_result"
    }
   ],
   "source": [
    "import datetime\n",
    "(str(datetime.datetime.now()),datetime.datetime.now())"
   ]
  },
  {
   "cell_type": "code",
   "execution_count": 15,
   "metadata": {
    "collapsed": false
   },
   "outputs": [
    {
     "name": "stdout",
     "output_type": "stream",
     "text": [
      "Starting Thread-1\n",
      "Starting Thread-2\n",
      "Exiting Main Thread\n",
      "Thread-1: Sat May  6 09:01:07 2017\n",
      "Thread-1: Sat May  6 09:01:08 2017Thread-2: Sat May  6 09:01:08 2017\n",
      "\n",
      "Thread-1: Sat May  6 09:01:09 2017\n",
      "Thread-2: Sat May  6 09:01:10 2017Thread-1: Sat May  6 09:01:10 2017\n",
      "\n",
      "Thread-1: Sat May  6 09:01:11 2017\n",
      "Exiting Thread-1\n",
      "Thread-2: Sat May  6 09:01:12 2017\n",
      "Thread-2: Sat May  6 09:01:14 2017\n",
      "Thread-2: Sat May  6 09:01:16 2017\n",
      "Exiting Thread-2\n"
     ]
    }
   ],
   "source": []
  },
  {
   "cell_type": "code",
   "execution_count": 10,
   "metadata": {
    "collapsed": false
   },
   "outputs": [
    {
     "name": "stdout",
     "output_type": "stream",
     "text": [
      "Starting Thread-1\n",
      "Starting Thread-2\n",
      "Thread-1: Sat May  6 08:58:34 2017\n",
      "Thread-1: Sat May  6 08:58:35 2017\n",
      "Thread-1: Sat May  6 08:58:36 2017\n",
      "Thread-2: Sat May  6 08:58:38 2017\n",
      "Thread-2: Sat May  6 08:58:40 2017\n",
      "Thread-2: Sat May  6 08:58:42 2017\n",
      "Exiting Main Thread\n"
     ]
    }
   ],
   "source": []
  },
  {
   "cell_type": "code",
   "execution_count": 2,
   "metadata": {
    "collapsed": false
   },
   "outputs": [
    {
     "name": "stdout",
     "output_type": "stream",
     "text": [
      "[  0.   2.   4.   6.   8.  10.  12.  14.  16.  18.]\n"
     ]
    },
    {
     "data": {
      "text/plain": [
       "<matplotlib.legend.Legend at 0x7fa188e218d0>"
      ]
     },
     "execution_count": 2,
     "metadata": {},
     "output_type": "execute_result"
    },
    {
     "data": {
      "image/png": "[encoded data removed]",
      "text/plain": [
       "<matplotlib.figure.Figure at 0x7fa19c404a10>"
      ]
     },
     "metadata": {},
     "output_type": "display_data"
    }
   ],
   "source": [
    "import numpy as np\n",
    "import matplotlib.pyplot as plt\n",
    "%matplotlib inline\n",
    "x= np.arange(0.,20,2.)\n",
    "print x\n",
    "plt.plot(x,x**2,'ro',label='convex')\n",
    "plt.plot(x,400-x**2,'go',label='concave')\n",
    "plt.legend()"
   ]
  },
  {
   "cell_type": "code",
   "execution_count": 45,
   "metadata": {
    "collapsed": false
   },
   "outputs": [
    {
     "name": "stdout",
     "output_type": "stream",
     "text": [
      "112.579187559\n",
      "1587.50160313\n"
     ]
    }
   ],
   "source": [
    "bm = np.cumsum(np.random.randn(10000))\n",
    "print np.mean(bm)\n",
    "print np.std(bm)**2\n"
   ]
  },
  {
   "cell_type": "code",
   "execution_count": 58,
   "metadata": {
    "collapsed": false
   },
   "outputs": [
    {
     "data": {
      "text/plain": [
       "'0.6.1'"
      ]
     },
     "execution_count": 58,
     "metadata": {},
     "output_type": "execute_result"
    }
   ],
   "source": [
    "import statsmodels\n",
    "reload(statsmodels)\n",
    "statsmodels.__version__\n",
    "#sm.tsa.stattools.acf(bm)"
   ]
  },
  {
   "cell_type": "code",
   "execution_count": 60,
   "metadata": {
    "collapsed": false
   },
   "outputs": [
    {
     "data": {
      "text/plain": [
       "[1, 3, 4, 5]"
      ]
     },
     "execution_count": 60,
     "metadata": {},
     "output_type": "execute_result"
    }
   ],
   "source": [
    "sorted([3,4,5,1])"
   ]
  },
  {
   "cell_type": "code",
   "execution_count": 9,
   "metadata": {
    "collapsed": false
   },
   "outputs": [
    {
     "name": "stdout",
     "output_type": "stream",
     "text": [
      "True\n",
      "False True\n",
      "False True\n",
      "False\n",
      "True\n"
     ]
    }
   ],
   "source": [
    "a,b,c,d=None,[],\"\",np.nan\n",
    "print a==None\n",
    "print not not b, not b\n",
    "print not not c,not c\n",
    "print d==np.nan\n",
    "print np.isnan(d)\n"
   ]
  },
  {
   "cell_type": "code",
   "execution_count": 31,
   "metadata": {
    "collapsed": false
   },
   "outputs": [
    {
     "data": {
      "text/plain": [
       "4.9541963103868749"
      ]
     },
     "execution_count": 31,
     "metadata": {},
     "output_type": "execute_result"
    }
   ],
   "source": [
    "np.log2(31)"
   ]
  },
  {
   "cell_type": "code",
   "execution_count": 33,
   "metadata": {
    "collapsed": false
   },
   "outputs": [
    {
     "data": {
      "text/plain": [
       "[2, 4, 8, 16]"
      ]
     },
     "execution_count": 33,
     "metadata": {},
     "output_type": "execute_result"
    }
   ],
   "source": [
    "def myfunc(x):\n",
    "    powers = []\n",
    "    i = 1\n",
    "    while i <= x:\n",
    "        if i & x:\n",
    "            powers.append(i)\n",
    "        i <<= 1\n",
    "    return powers\n",
    "myfunc(30)"
   ]
  },
  {
   "cell_type": "code",
   "execution_count": 47,
   "metadata": {
    "collapsed": false
   },
   "outputs": [
    {
     "name": "stdout",
     "output_type": "stream",
     "text": [
      "{}\n",
      "[2, 8]\n",
      "{1: 3, 2: 9} 3 2\n",
      "[9]\n",
      "{1: 3, 2: 9, 4: 81} 3 4\n",
      "{8: 6561, 1: 3, 2: 9, 4: 81} 3 8\n",
      "[9, 6561]\n",
      "59049\n"
     ]
    }
   ],
   "source": [
    "\n",
    "    "
   ]
  },
  {
   "cell_type": "code",
   "execution_count": 51,
   "metadata": {
    "collapsed": false
   },
   "outputs": [
    {
     "data": {
      "text/plain": [
       "True"
      ]
     },
     "execution_count": 51,
     "metadata": {},
     "output_type": "execute_result"
    }
   ],
   "source": [
    "\"9\".isdigit()"
   ]
  },
  {
   "cell_type": "code",
   "execution_count": 53,
   "metadata": {
    "collapsed": false
   },
   "outputs": [
    {
     "data": {
      "text/plain": [
       "['3', '4', '5']"
      ]
     },
     "execution_count": 53,
     "metadata": {},
     "output_type": "execute_result"
    }
   ],
   "source": [
    "sorted(\"543\")"
   ]
  },
  {
   "cell_type": "code",
   "execution_count": null,
   "metadata": {
    "collapsed": true
   },
   "outputs": [],
   "source": [
    "\"ASDASD\",\"!@#!@#\""
   ]
  },
  {
   "cell_type": "code",
   "execution_count": 65,
   "metadata": {
    "collapsed": false
   },
   "outputs": [
    {
     "ename": "SyntaxError",
     "evalue": "can't assign to literal (<ipython-input-65-4513054294c6>, line 1)",
     "output_type": "error",
     "traceback": [
      "\u001b[1;36m  File \u001b[1;32m\"<ipython-input-65-4513054294c6>\"\u001b[1;36m, line \u001b[1;32m1\u001b[0m\n\u001b[1;33m    2 <<= 5\u001b[0m\n\u001b[1;31mSyntaxError\u001b[0m\u001b[1;31m:\u001b[0m can't assign to literal\n"
     ]
    }
   ],
   "source": [
    "2 << 5"
   ]
  },
  {
   "cell_type": "code",
   "execution_count": 64,
   "metadata": {
    "collapsed": false
   },
   "outputs": [
    {
     "data": {
      "text/plain": [
       "1"
      ]
     },
     "execution_count": 64,
     "metadata": {},
     "output_type": "execute_result"
    }
   ],
   "source": [
    "5 & 3"
   ]
  }
 ],
 "metadata": {
  "kernelspec": {
   "display_name": "Python 2",
   "language": "python",
   "name": "python2"
  },
  "language_info": {
   "codemirror_mode": {
    "name": "ipython",
    "version": 2
   },
   "file_extension": ".py",
   "mimetype": "text/x-python",
   "name": "python",
   "nbconvert_exporter": "python",
   "pygments_lexer": "ipython2",
   "version": "2.7.12"
  }
 },
 "nbformat": 4,
 "nbformat_minor": 0
}
