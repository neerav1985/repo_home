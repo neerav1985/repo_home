{
 "cells": [
  {
   "cell_type": "markdown",
   "metadata": {},
   "source": [
    "##__builtin__\n",
    "https://docs.python.org/2/library/functions.html"
   ]
  },
  {
   "cell_type": "code",
   "execution_count": 38,
   "metadata": {
    "collapsed": false,
    "scrolled": true
   },
   "outputs": [
    {
     "name": "stdout",
     "output_type": "stream",
     "text": [
      "10.2\n",
      "10.2 <= doesn't change the original value\n",
      "[0, 1, 2, 3, 4]\n",
      "[0, 1, 2, 3, 4, 'a'] <= changes the original list\n"
     ]
    }
   ],
   "source": [
    "#mutable objects are mutable even inside the functions and immutable objects are not\n",
    "#Int,float,string,tuple and fronzenset are immutable\n",
    "#Lists/ductionaries, sets are mutable\n",
    "def modifyInt(x):x+=2\n",
    "def appendL(x):x.append('a')\n",
    "a=10.2\n",
    "print a\n",
    "modifyInt(a) \n",
    "print a,\"<= doesn't change the original value\"\n",
    "b=range(5)\n",
    "print b\n",
    "appendL(b)\n",
    "print b,\"<= changes the original list\""
   ]
  },
  {
   "cell_type": "code",
   "execution_count": 40,
   "metadata": {
    "collapsed": false
   },
   "outputs": [
    {
     "name": "stdout",
     "output_type": "stream",
     "text": [
      "[0, 1, 2, 5] [0, 1, 2, 5] [0, 1, 2, 4] [0, 1, 2, 5]\n",
      "140682061891200 140682061891200 140682061975280 140682061891200\n",
      "140682062069672\n",
      "asd asdqwe asdzxc asdqwe\n",
      "140682062069672 140682062132160 140682061677744 140682062132160\n"
     ]
    }
   ],
   "source": [
    "#mutable vs immutable \n",
    "a= range(3)\n",
    "c=a # does not create new list c, but, remains the same as a, look at id()\n",
    "d=a+[4] #creates new list\n",
    "c.append(5)\n",
    "e=c\n",
    "print a,c,d,e\n",
    "print id(a),id(c),id(d),id(e)\n",
    "\n",
    "p=\"asd\"\n",
    "r=p\n",
    "print id(r)\n",
    "s=p+\"zxc\" #new string id , different from id of p\n",
    "r+=\"qwe\" # new string id, different from id of p\n",
    "t=r\n",
    "print p,r,s,t\n",
    "print id(p),id(r),id(s),id(t)"
   ]
  },
  {
   "cell_type": "raw",
   "metadata": {},
   "source": [
    "There are currently two built-in set types, set and frozenset. \n",
    "The set type is mutable — the contents can be changed using methods like add() and remove(). \n",
    "Since it is mutable, it has no hash value and cannot be used as either a dictionary key \n",
    "or as an element of another set. \n",
    "The frozenset type is immutable and hashable — its contents cannot be altered after it is created; \n",
    "it can therefore be used as a dictionary key or as an element of another set."
   ]
  },
  {
   "cell_type": "code",
   "execution_count": 58,
   "metadata": {
    "collapsed": false
   },
   "outputs": [
    {
     "name": "stdout",
     "output_type": "stream",
     "text": [
      "set([0, 1, 2, 3, 4])\n",
      "frozenset([0, 1, 2, 3, 4])\n"
     ]
    }
   ],
   "source": [
    "print set(range(5)+[4]) #mutable(not hashable) - can't be used in dict\n",
    "print frozenset(range(5)+[4]) #immutable - can be used in dict"
   ]
  },
  {
   "cell_type": "code",
   "execution_count": 10,
   "metadata": {
    "collapsed": false
   },
   "outputs": [
    {
     "data": {
      "text/plain": [
       "-9800676554321"
      ]
     },
     "execution_count": 10,
     "metadata": {},
     "output_type": "execute_result"
    }
   ],
   "source": [
    "#reverse number without using string or list\n",
    "def reverse_wo_string(a=234):\n",
    "    if a<0:isneg=True\n",
    "    a=abs(a)\n",
    "    b=0\n",
    "    while a>0:    \n",
    "        b*=10\n",
    "        b+=a%10\n",
    "        a/=10\n",
    "    return b if not isneg else -b\n",
    "reverse_wo_string(-1234556760089)"
   ]
  },
  {
   "cell_type": "code",
   "execution_count": 10,
   "metadata": {
    "collapsed": false
   },
   "outputs": [
    {
     "name": "stdout",
     "output_type": "stream",
     "text": [
      "set([0, 5.6, 2, 'a'])\n",
      "set([0, 5.6, 2, 'a', 5])\n",
      "frozenset([0, 5.6, 2, 'a', 5])\n",
      "2309943489171836340\n"
     ]
    }
   ],
   "source": [
    "a=set([0,2,5.6,'a'])\n",
    "print a\n",
    "a.add(5) #Add remove possible => mutable => non hashable\n",
    "print a\n",
    "#print hash(a) #TypeError: unhashable type: 'set'\n",
    "#a.add(a) #TypeError: unhashable type: 'set'\n",
    "b = frozenset(a)\n",
    "print b\n",
    "print hash(b)\n",
    "#b.add(b) #AttributeError: 'frozenset' object has no attribute 'add' \n",
    "#frozenset can't be modified once created => immutable => hashable"
   ]
  },
  {
   "cell_type": "raw",
   "metadata": {},
   "source": [
    "divmod(a, b)\n",
    "Take two (non complex) numbers as arguments and return a pair of numbers consisting \n",
    "of their quotient and remainder when using long division. \n",
    "With mixed operand types, the rules for binary arithmetic operators apply. \n",
    "For plain and long integers, the result is the same as (a // b, a % b). \n",
    "For floating point numbers the result is (q, a % b), \n",
    "where q is usually math.floor(a / b) but may be 1 less than that. \n",
    "In any case q * b + a % b is very close to a, \n",
    "if a % b is non-zero it has the same sign as b, and 0 <= abs(a % b) < abs(b)."
   ]
  },
  {
   "cell_type": "code",
   "execution_count": 21,
   "metadata": {
    "collapsed": false
   },
   "outputs": [
    {
     "name": "stdout",
     "output_type": "stream",
     "text": [
      "3.0\n",
      "3.05\n",
      "(3.0, 0.09999999999999964) (3.0, 0.09999999999999964)\n"
     ]
    }
   ],
   "source": [
    "print 6.1//2. #\"//\"returns quotient only, even if the value is float\n",
    "print 6.1/2.  #division\n",
    "print divmod(6.1,2.), (6.1//2.,6.1%2)"
   ]
  },
  {
   "cell_type": "code",
   "execution_count": 24,
   "metadata": {
    "collapsed": false
   },
   "outputs": [
    {
     "name": "stdout",
     "output_type": "stream",
     "text": [
      "True False True 140682089691256 140682150225400\n"
     ]
    }
   ],
   "source": [
    "##is vs ==\n",
    "a = 'pub'\n",
    "b = ''.join(['p', 'u', 'b'])\n",
    "print a == b,a is b,a is a, id(a),id(b)"
   ]
  },
  {
   "cell_type": "code",
   "execution_count": 25,
   "metadata": {
    "collapsed": false,
    "scrolled": true
   },
   "outputs": [
    {
     "name": "stdout",
     "output_type": "stream",
     "text": [
      "0\n",
      "1\n",
      "4\n",
      "0\n",
      "1\n",
      "4\n",
      "[] 0\n",
      "<generator object createGenerator at 0x7ff3185d1eb0>\n",
      "0\n",
      "1\n",
      "4\n"
     ]
    }
   ],
   "source": [
    "#list comprehension\n",
    "\n",
    "mylist = [x*x for x in range(3)]\n",
    "for i in mylist:\n",
    "    print(i)\n",
    "\n",
    "#Generators are iterators, but you can only iterate over them once. \n",
    "#It's because they do not store all the values in memory, they generate the values on the fly:\n",
    "#Created similarly as list comprehension, but, using () instead of []\n",
    "mygenerator = (x*x for x in range(3))\n",
    "for i in mygenerator:\n",
    "    print(i)\n",
    "print list(mygenerator),len(list(mygenerator))\n",
    "\n",
    "#Yield is a keyword that is used like return, except the function will return a generator.\n",
    "def createGenerator():\n",
    "    mylist = range(3)\n",
    "    for i in mylist:\n",
    "        yield i*i\n",
    "\n",
    "mygenerator = createGenerator() # create a generator\n",
    "print(mygenerator) # mygenerator is an object!\n",
    "for i in mygenerator:\n",
    "    print(i)\n",
    "\n"
   ]
  },
  {
   "cell_type": "raw",
   "metadata": {},
   "source": [
    "#range creates a list, so if you do range(1, 10000000) it creates a list in memory with 9999999 elements.\n",
    "#xrange is a sequence object that evaluates lazily. - xrange is not a generator but acts like one."
   ]
  },
  {
   "cell_type": "code",
   "execution_count": 26,
   "metadata": {
    "collapsed": false
   },
   "outputs": [
    {
     "name": "stdout",
     "output_type": "stream",
     "text": [
      "0 0\n",
      "1 1\n",
      "2 2\n",
      "3 3\n",
      "4 4\n"
     ]
    }
   ],
   "source": [
    "#to get index and value in a list/sequesnce\n",
    "for idx, val in enumerate(range(5)):\n",
    "    print idx, val"
   ]
  },
  {
   "cell_type": "markdown",
   "metadata": {},
   "source": [
    "How does python dict work?\n",
    "- CPython dict is a hashtable stored as a contiguous block of memory.\n",
    "- Cpython dict cannot have duplicate key.\n",
    "- Hash is created from the key and when the hashvalue of key don't match with any other entry in the hashtable a slot of a new entry is being 'probed'.\n",
    "- While inserting, a slot for insertion of the new entry in the hash table memory block is picked using \"random probing\" and not 'linear probing'.\n",
    "- Dict is stored as hash|key|value struct internally. \n",
    "- Dict can have same hashvalue for different keys - collission.\n",
    "- For lookup, hash key combination is looked up, instead of just hash or just key. This resolves the cases when the hashvalue is the same but key is not.\n"
   ]
  },
  {
   "cell_type": "code",
   "execution_count": 28,
   "metadata": {
    "collapsed": false
   },
   "outputs": [
    {
     "ename": "NotImplementedError",
     "evalue": "A is supposed to be abstract class and foo is not supposed to be called",
     "output_type": "error",
     "traceback": [
      "\u001b[1;31m---------------------------------------------------------------------------\u001b[0m",
      "\u001b[1;31mNotImplementedError\u001b[0m                       Traceback (most recent call last)",
      "\u001b[1;32m<ipython-input-28-1c74cda53638>\u001b[0m in \u001b[0;36m<module>\u001b[1;34m()\u001b[0m\n\u001b[0;32m      6\u001b[0m         \u001b[1;32mraise\u001b[0m \u001b[0mNotImplementedError\u001b[0m\u001b[1;33m(\u001b[0m\u001b[1;34m\"A is supposed to be abstract class and foo is not supposed to be called\"\u001b[0m\u001b[1;33m)\u001b[0m\u001b[1;33m\u001b[0m\u001b[0m\n\u001b[0;32m      7\u001b[0m \u001b[0ma\u001b[0m \u001b[1;33m=\u001b[0m \u001b[0mA\u001b[0m\u001b[1;33m(\u001b[0m\u001b[1;33m)\u001b[0m\u001b[1;33m\u001b[0m\u001b[0m\n\u001b[1;32m----> 8\u001b[1;33m \u001b[0ma\u001b[0m\u001b[1;33m.\u001b[0m\u001b[0mfoo\u001b[0m\u001b[1;33m(\u001b[0m\u001b[1;36m2\u001b[0m\u001b[1;33m)\u001b[0m\u001b[1;33m\u001b[0m\u001b[0m\n\u001b[0m",
      "\u001b[1;32m<ipython-input-28-1c74cda53638>\u001b[0m in \u001b[0;36mfoo\u001b[1;34m(self, x)\u001b[0m\n\u001b[0;32m      4\u001b[0m \u001b[1;32mclass\u001b[0m \u001b[0mA\u001b[0m\u001b[1;33m:\u001b[0m\u001b[1;33m\u001b[0m\u001b[0m\n\u001b[0;32m      5\u001b[0m     \u001b[1;32mdef\u001b[0m \u001b[0mfoo\u001b[0m\u001b[1;33m(\u001b[0m\u001b[0mself\u001b[0m\u001b[1;33m,\u001b[0m\u001b[0mx\u001b[0m\u001b[1;33m)\u001b[0m\u001b[1;33m:\u001b[0m\u001b[1;33m\u001b[0m\u001b[0m\n\u001b[1;32m----> 6\u001b[1;33m         \u001b[1;32mraise\u001b[0m \u001b[0mNotImplementedError\u001b[0m\u001b[1;33m(\u001b[0m\u001b[1;34m\"A is supposed to be abstract class and foo is not supposed to be called\"\u001b[0m\u001b[1;33m)\u001b[0m\u001b[1;33m\u001b[0m\u001b[0m\n\u001b[0m\u001b[0;32m      7\u001b[0m \u001b[0ma\u001b[0m \u001b[1;33m=\u001b[0m \u001b[0mA\u001b[0m\u001b[1;33m(\u001b[0m\u001b[1;33m)\u001b[0m\u001b[1;33m\u001b[0m\u001b[0m\n\u001b[0;32m      8\u001b[0m \u001b[0ma\u001b[0m\u001b[1;33m.\u001b[0m\u001b[0mfoo\u001b[0m\u001b[1;33m(\u001b[0m\u001b[1;36m2\u001b[0m\u001b[1;33m)\u001b[0m\u001b[1;33m\u001b[0m\u001b[0m\n",
      "\u001b[1;31mNotImplementedError\u001b[0m: A is supposed to be abstract class and foo is not supposed to be called"
     ]
    }
   ],
   "source": [
    "#python abstract class - only way to create is by creating a method that raises NotImplementedError\n",
    "#in Java/C++ abstract class cannot be instantiated, but, in Python it can be. \n",
    "\n",
    "class A:\n",
    "    def foo(self,x):\n",
    "        raise NotImplementedError(\"A is only supposed to be an abstract class(inherited from) and foo is not supposed to be called\")\n",
    "a = A()\n",
    "a.foo(2)"
   ]
  },
  {
   "cell_type": "code",
   "execution_count": 33,
   "metadata": {
    "collapsed": false,
    "scrolled": true
   },
   "outputs": [
    {
     "name": "stdout",
     "output_type": "stream",
     "text": [
      "C\n",
      "C.foo\n",
      "B.foo\n",
      "A.foo\n",
      "['__doc__', '__init__', '__module__', 'foo']\n",
      "{}\n",
      "{'__module__': '__main__', 'foo': <function foo at 0x7ff3184e99b0>, '__doc__': None, '__init__': <function __init__ at 0x7ff3184e9410>, 'superfoo': <function superfoo at 0x7ff3184e9848>}\n"
     ]
    }
   ],
   "source": [
    "# Python multiple inheritance - C inherits from both A and B\n",
    "# Old-style classes because A does not inherit from \"object\"\n",
    " \n",
    "class A():\n",
    "    def __init__(self): print \"A\"\n",
    "    def foo(self): print \"A.foo\"\n",
    "class B(A):\n",
    "    def __init__(self): print \"B\"\n",
    "    def foo(self): print \"B.foo\"\n",
    "class C(A,B): #This line will give type-error in new-style classses because of mro but works in old-style\n",
    "    def __init__(self): print \"C\"\n",
    "    def foo(self): \n",
    "        print \"C.foo\"\n",
    "        B.foo(self) #and not super(B,self).foo()\n",
    "        A.foo(self) #and not super(A,self).foo()\n",
    "        \n",
    "    def superfoo(self): \n",
    "        print \"C.superfoo\"\n",
    "        super(C,self).foo() #super only works with new-style class, C is oldstyle\n",
    "c = C()\n",
    "c.foo()\n",
    "#c.superfoo() #TypeError: super() argument 1 must be type, not classobj\n",
    "print dir(A)\n",
    "#print C.__mro__ #mro attribute only in new-style classes(inherited from object) C is old style\n",
    "#this fails because new-style class cannot create proper method resolution order (MRO)\n",
    "print c.__dict__\n",
    "print C.__dict__\n"
   ]
  },
  {
   "cell_type": "code",
   "execution_count": 24,
   "metadata": {
    "collapsed": false
   },
   "outputs": [
    {
     "name": "stdout",
     "output_type": "stream",
     "text": [
      "D\n",
      "D.foo\n",
      "B.foo\n",
      "A.foo\n",
      "['__class__', '__delattr__', '__dict__', '__doc__', '__format__', '__getattribute__', '__hash__', '__init__', '__module__', '__new__', '__reduce__', '__reduce_ex__', '__repr__', '__setattr__', '__sizeof__', '__str__', '__subclasshook__', '__weakref__', 'foo']\n",
      "Help on D in module __main__ object:\n",
      "\n",
      "class D(B, A)\n",
      " |  Method resolution order:\n",
      " |      D\n",
      " |      B\n",
      " |      A\n",
      " |      __builtin__.object\n",
      " |  \n",
      " |  Methods defined here:\n",
      " |  \n",
      " |  __init__(self)\n",
      " |  \n",
      " |  foo(self)\n",
      " |  \n",
      " |  ----------------------------------------------------------------------\n",
      " |  Data descriptors inherited from A:\n",
      " |  \n",
      " |  __dict__\n",
      " |      dictionary for instance variables (if defined)\n",
      " |  \n",
      " |  __weakref__\n",
      " |      list of weak references to the object (if defined)\n",
      "\n"
     ]
    }
   ],
   "source": [
    "#__mro__ attribute is only defined for new-style classes. \n",
    "#In Python 2, a class is only new-style if it inherits from object (or from a built in type, \n",
    "#which in turn inherits from object), while all classes in Python 3 are new-style no matter what.\n",
    "# new-styles classes(to access __mro__(method resolution order (MRO)) attribute of the class), \n",
    "# the parent class has to be derived from \"object\" class\n",
    "class A(object):\n",
    "    def __init__(self): print \"A\"\n",
    "    def foo(self): print \"A.foo\"\n",
    "class B(A):\n",
    "    def __init__(self): print \"B\"\n",
    "    def foo(self): print \"B.foo\"\n",
    "#class C(A,B):\n",
    "#    def __init__(self): print \"C\"\n",
    "#    def foo(self): \n",
    "#        print \"C.foo\"\n",
    "#        super(C,self).foo()\n",
    "class D(B,A):\n",
    "    def __init__(self): print \"D\"\n",
    "    def foo(self): \n",
    "        print \"D.foo\" \n",
    "        super(D,self).foo()\n",
    "        super(B,self).foo() #foo() from  any class can be easily called\n",
    "d = D()\n",
    "d.foo()\n",
    "#c = C()\n",
    "#c.foo()\n",
    "print dir(A)\n",
    "#print C.__mro__ #this fails because new-style class cannot create proper method resolution order (MRO)\n",
    "#print c.__dict__\n",
    "#print C.__dict__\n",
    "help(d)\n",
    "\n"
   ]
  },
  {
   "cell_type": "code",
   "execution_count": 18,
   "metadata": {
    "collapsed": false
   },
   "outputs": [
    {
     "name": "stdout",
     "output_type": "stream",
     "text": [
      "Ford MustangGT350 in red color\n",
      "Ford Mustang\n"
     ]
    }
   ],
   "source": [
    "#Polymorphism: being able to call getname() and getcolor() methods in Vehicle class for car instance\n",
    "\n",
    "class Vehicle(object):\n",
    " \n",
    "    def __init__(self, name, color):\n",
    "        self.__name = name      # __name is private to Vehicle class\n",
    "        self.__color = color\n",
    " \n",
    "    def getColor(self):         # getColor() function is accessible to class Car\n",
    "        return self.__color\n",
    " \n",
    "    def setColor(self, color):  # setColor is accessible outside the class\n",
    "        self.__color = color\n",
    " \n",
    "    def getName(self):          # getName() is accessible outside the class\n",
    "        return self.__name\n",
    " \n",
    "class Car(Vehicle):\n",
    " \n",
    "    def __init__(self, name, color, model):\n",
    "        # call parent constructor to set name and color  \n",
    "        super(Car,self).__init__(name, color)       \n",
    "        self.__model = model\n",
    " \n",
    "    def getDescription(self):\n",
    "        return self.getName() + self.__model + \" in \" + self.getColor() + \" color\"\n",
    " \n",
    "# in method getDescrition we are able to call getName(), getColor() because they are \n",
    "# accessible to child class through inheritance\n",
    " \n",
    "c = Car(\"Ford Mustang\", \"red\", \"GT350\")\n",
    "print(c.getDescription())\n",
    "print(c.getName()) # car has no method getName() but it is accessible through class Vehicle\n"
   ]
  },
  {
   "cell_type": "code",
   "execution_count": 19,
   "metadata": {
    "collapsed": false,
    "scrolled": true
   },
   "outputs": [
    {
     "name": "stdout",
     "output_type": "stream",
     "text": [
      "m1 from B\n"
     ]
    }
   ],
   "source": [
    "#Methond Overriding\n",
    "class A():\n",
    " \n",
    "    def __init__(self):\n",
    "        self.__x = 1\n",
    " \n",
    "    def m1(self):\n",
    "        print(\"m1 from A\")\n",
    " \n",
    " \n",
    "class B(A):\n",
    " \n",
    "    def __init__(self):\n",
    "        self.__y = 1\n",
    " \n",
    "    def m1(self):\n",
    "        print(\"m1 from B\")\n",
    " \n",
    "c = B()\n",
    "c.m1()"
   ]
  },
  {
   "cell_type": "raw",
   "metadata": {
    "collapsed": false
   },
   "source": []
  },
  {
   "cell_type": "markdown",
   "metadata": {},
   "source": [
    "#concurrency/parallelism\n",
    "https://www.toptal.com/python/beginners-guide-to-concurrency-and-parallelism-in-python"
   ]
  },
  {
   "cell_type": "raw",
   "metadata": {},
   "source": [
    "#python excception handling\n",
    "something = some_default_value\n",
    "try:\n",
    "    something = try_this(whatever)\n",
    "except SomeException as exception:\n",
    "    #Handle exception\n",
    "finally:\n",
    "    return something"
   ]
  },
  {
   "cell_type": "raw",
   "metadata": {},
   "source": [
    "#exception handling\n",
    "try:\n",
    "    try_this(whatever) \n",
    "except SomeException as the_exception:\n",
    "    handle(the_exception)\n",
    "    # Handle a instance of SomeException or a subclass of it.\n",
    "except Exception as the_exception:\n",
    "    generic_handle(the_exception)\n",
    "    # Handle any other exception that inherits from Exception\n",
    "    # - doesn't include GeneratorExit, KeyboardInterrupt, SystemExit\n",
    "else: # there was no exception whatsoever\n",
    "    return something() \n",
    "    # if no exception, the \"something()\" gets evaluated, \n",
    "    # but the return will not be executed due to the return in the \n",
    "    # finally block below.\n",
    "finally:\n",
    "    # this block will execute no matter what, even if no exception,\n",
    "    # after \"something\" is eval'd but before that value is returned\n",
    "    # but even if there is an exception.\n",
    "    # a return here will hijack the return functionality. e.g.:\n",
    "    return True # hijacks the return in the else clause above"
   ]
  },
  {
   "cell_type": "code",
   "execution_count": 36,
   "metadata": {
    "collapsed": false
   },
   "outputs": [
    {
     "name": "stdout",
     "output_type": "stream",
     "text": [
      "Infinite result\n",
      "('float division by zero',)\n",
      "float division by zero\n",
      "Finally\n"
     ]
    }
   ],
   "source": [
    "#try/except/finally\n",
    "try:\n",
    "    recip = 1 / 0.\n",
    "except ZeroDivisionError as e:\n",
    "    print 'Infinite result'\n",
    "    print e.args\n",
    "    print e\n",
    "else:\n",
    "    print 'Else clause - finite result'\n",
    "finally:\n",
    "    print \"Finally\""
   ]
  },
  {
   "cell_type": "raw",
   "metadata": {},
   "source": [
    "#catch multiple excceptions\n",
    "try:\n",
    "    mainstuff()\n",
    "except (KeyboardInterrupt, EOFError) as err: \n",
    "    print(err)\n",
    "    print(err.args)\n",
    "    quit(0)"
   ]
  },
  {
   "cell_type": "code",
   "execution_count": 111,
   "metadata": {
    "collapsed": false
   },
   "outputs": [
    {
     "name": "stdout",
     "output_type": "stream",
     "text": [
      "Counter is 1\n",
      "Counter is 2\n",
      "3 4\n"
     ]
    }
   ],
   "source": [
    "#python static variable\n",
    "def foo():\n",
    "    foo.counter += 1\n",
    "    print \"Counter is %d\" % foo.counter\n",
    "foo.counter = 0\n",
    "foo()\n",
    "foo()\n",
    "\n",
    "#python class variable\n",
    "class MyClass:\n",
    "    i = 3\n",
    "m=MyClass()\n",
    "m.i=4\n",
    "print MyClass.i,m.i"
   ]
  },
  {
   "cell_type": "code",
   "execution_count": 78,
   "metadata": {
    "collapsed": false
   },
   "outputs": [
    {
     "name": "stdout",
     "output_type": "stream",
     "text": [
      "executing foo(<__main__.A object at 0x7f31fca8b9d0>,1)\n",
      "executing class_foo(<class '__main__.A'>,1)\n",
      "executing class_foo(<class '__main__.A'>,1)\n",
      "executing static_foo(1)\n",
      "executing static_foo(1)\n"
     ]
    }
   ],
   "source": [
    "#object method vs class method vs static method\n",
    "class A(object):\n",
    "    def foo(self,x):\n",
    "        print \"executing foo(%s,%s)\"%(self,x)\n",
    "\n",
    "    @classmethod\n",
    "    def class_foo(cls,x):\n",
    "        print \"executing class_foo(%s,%s)\"%(cls,x)\n",
    "\n",
    "    @staticmethod\n",
    "    def static_foo(x):\n",
    "        print \"executing static_foo(%s)\"%x    \n",
    "\n",
    "a=A()\n",
    "a.foo(1)\n",
    "a.class_foo(1)\n",
    "A.class_foo(1)\n",
    "a.static_foo(1)\n",
    "A.static_foo(1)"
   ]
  },
  {
   "cell_type": "code",
   "execution_count": 71,
   "metadata": {
    "collapsed": true
   },
   "outputs": [],
   "source": [
    "# Use of metaclass to create Singleton \n",
    "# Singleton metaclass inherits from \"type\" whereas new-style class Logger inherits from \"object\"\n",
    "class Singleton(type):\n",
    "    _instances = {}\n",
    "    def __call__(cls, *args, **kwargs):\n",
    "        if cls not in cls._instances:\n",
    "            cls._instances[cls] = super(Singleton, cls).__call__(*args, **kwargs)\n",
    "        return cls._instances[cls]\n",
    "\n",
    "class Logger(object):\n",
    "    __metaclass__ = Singleton"
   ]
  },
  {
   "cell_type": "code",
   "execution_count": 68,
   "metadata": {
    "collapsed": false
   },
   "outputs": [
    {
     "name": "stdout",
     "output_type": "stream",
     "text": [
      ".\n",
      "..\n",
      "binarytree.py\n",
      "binarytree.pyc\n"
     ]
    }
   ],
   "source": [
    "#python command output and error \n",
    "import subprocess\n",
    "p = subprocess.Popen(['ls', '-a'], stdout=subprocess.PIPE, \n",
    "                     stderr=subprocess.PIPE)\n",
    "out, err = p.communicate()\n",
    "print out[:33]"
   ]
  },
  {
   "cell_type": "code",
   "execution_count": 69,
   "metadata": {
    "collapsed": false
   },
   "outputs": [
    {
     "data": {
      "text/plain": [
       "0.6666666666666666"
      ]
     },
     "execution_count": 69,
     "metadata": {},
     "output_type": "execute_result"
    }
   ],
   "source": [
    "##float output for integer devision\n",
    "from __future__ import division\n",
    "a = 4\n",
    "b = 6\n",
    "c = a / b\n",
    "c"
   ]
  },
  {
   "cell_type": "code",
   "execution_count": 70,
   "metadata": {
    "collapsed": false
   },
   "outputs": [
    {
     "data": {
      "text/plain": [
       "'true'"
      ]
     },
     "execution_count": 70,
     "metadata": {},
     "output_type": "execute_result"
    }
   ],
   "source": [
    "#ternary operator in python\n",
    "'true' if True else 'false'"
   ]
  },
  {
   "cell_type": "code",
   "execution_count": 12,
   "metadata": {
    "collapsed": false
   },
   "outputs": [
    {
     "data": {
      "text/plain": [
       "'asdasdasdasdasdasdasdasdasdasdasdasdasdasdasdasdasdasdasdasd'"
      ]
     },
     "execution_count": 12,
     "metadata": {},
     "output_type": "execute_result"
    }
   ],
   "source": [
    "\"asd\"*20"
   ]
  },
  {
   "cell_type": "code",
   "execution_count": 56,
   "metadata": {
    "collapsed": false
   },
   "outputs": [
    {
     "name": "stdout",
     "output_type": "stream",
     "text": [
      "['foo\\n', 'appended text']\n"
     ]
    }
   ],
   "source": [
    "#context manager\n",
    "class File():\n",
    "\n",
    "    def __init__(self, filename, mode):\n",
    "        self.filename = filename\n",
    "        self.mode = mode\n",
    "\n",
    "    def __enter__(self):\n",
    "        self.open_file = open(self.filename, self.mode)\n",
    "        return self.open_file\n",
    "\n",
    "    def __exit__(self, *args):\n",
    "        self.open_file.close()\n",
    "\n",
    "with File('foo.txt', 'w') as infile: #using context manager\n",
    "    infile.write('foo')\n",
    "    \n",
    "##append\n",
    "with open(\"foo.txt\", \"a\") as myfile:\n",
    "    myfile.write(\"\\nappended text\")\n",
    "##read\n",
    "with open(\"foo.txt\", \"r\") as myfile:\n",
    "    l = myfile.readlines()\n",
    "print l"
   ]
  },
  {
   "cell_type": "code",
   "execution_count": 57,
   "metadata": {
    "collapsed": false
   },
   "outputs": [
    {
     "name": "stdout",
     "output_type": "stream",
     "text": [
      "True False\n"
     ]
    }
   ],
   "source": [
    "print u'20'.isnumeric(), u'20.3'.isnumeric()"
   ]
  },
  {
   "cell_type": "code",
   "execution_count": 58,
   "metadata": {
    "collapsed": false
   },
   "outputs": [
    {
     "data": {
      "text/plain": [
       "(['__add__',\n",
       "  '__class__',\n",
       "  '__contains__',\n",
       "  '__delattr__',\n",
       "  '__doc__',\n",
       "  '__eq__',\n",
       "  '__format__',\n",
       "  '__ge__',\n",
       "  '__getattribute__',\n",
       "  '__getitem__',\n",
       "  '__getnewargs__',\n",
       "  '__getslice__',\n",
       "  '__gt__',\n",
       "  '__hash__',\n",
       "  '__init__',\n",
       "  '__le__',\n",
       "  '__len__',\n",
       "  '__lt__',\n",
       "  '__mod__',\n",
       "  '__mul__',\n",
       "  '__ne__',\n",
       "  '__new__',\n",
       "  '__reduce__',\n",
       "  '__reduce_ex__',\n",
       "  '__repr__',\n",
       "  '__rmod__',\n",
       "  '__rmul__',\n",
       "  '__setattr__',\n",
       "  '__sizeof__',\n",
       "  '__str__',\n",
       "  '__subclasshook__',\n",
       "  '_formatter_field_name_split',\n",
       "  '_formatter_parser',\n",
       "  'capitalize',\n",
       "  'center',\n",
       "  'count',\n",
       "  'decode',\n",
       "  'encode',\n",
       "  'endswith',\n",
       "  'expandtabs',\n",
       "  'find',\n",
       "  'format',\n",
       "  'index',\n",
       "  'isalnum',\n",
       "  'isalpha',\n",
       "  'isdecimal',\n",
       "  'isdigit',\n",
       "  'islower',\n",
       "  'isnumeric',\n",
       "  'isspace',\n",
       "  'istitle',\n",
       "  'isupper',\n",
       "  'join',\n",
       "  'ljust',\n",
       "  'lower',\n",
       "  'lstrip',\n",
       "  'partition',\n",
       "  'replace',\n",
       "  'rfind',\n",
       "  'rindex',\n",
       "  'rjust',\n",
       "  'rpartition',\n",
       "  'rsplit',\n",
       "  'rstrip',\n",
       "  'split',\n",
       "  'splitlines',\n",
       "  'startswith',\n",
       "  'strip',\n",
       "  'swapcase',\n",
       "  'title',\n",
       "  'translate',\n",
       "  'upper',\n",
       "  'zfill'],\n",
       " ['__add__',\n",
       "  '__class__',\n",
       "  '__contains__',\n",
       "  '__delattr__',\n",
       "  '__doc__',\n",
       "  '__eq__',\n",
       "  '__format__',\n",
       "  '__ge__',\n",
       "  '__getattribute__',\n",
       "  '__getitem__',\n",
       "  '__getnewargs__',\n",
       "  '__getslice__',\n",
       "  '__gt__',\n",
       "  '__hash__',\n",
       "  '__init__',\n",
       "  '__le__',\n",
       "  '__len__',\n",
       "  '__lt__',\n",
       "  '__mod__',\n",
       "  '__mul__',\n",
       "  '__ne__',\n",
       "  '__new__',\n",
       "  '__reduce__',\n",
       "  '__reduce_ex__',\n",
       "  '__repr__',\n",
       "  '__rmod__',\n",
       "  '__rmul__',\n",
       "  '__setattr__',\n",
       "  '__sizeof__',\n",
       "  '__str__',\n",
       "  '__subclasshook__',\n",
       "  '_formatter_field_name_split',\n",
       "  '_formatter_parser',\n",
       "  'capitalize',\n",
       "  'center',\n",
       "  'count',\n",
       "  'decode',\n",
       "  'encode',\n",
       "  'endswith',\n",
       "  'expandtabs',\n",
       "  'find',\n",
       "  'format',\n",
       "  'index',\n",
       "  'isalnum',\n",
       "  'isalpha',\n",
       "  'isdigit',\n",
       "  'islower',\n",
       "  'isspace',\n",
       "  'istitle',\n",
       "  'isupper',\n",
       "  'join',\n",
       "  'ljust',\n",
       "  'lower',\n",
       "  'lstrip',\n",
       "  'partition',\n",
       "  'replace',\n",
       "  'rfind',\n",
       "  'rindex',\n",
       "  'rjust',\n",
       "  'rpartition',\n",
       "  'rsplit',\n",
       "  'rstrip',\n",
       "  'split',\n",
       "  'splitlines',\n",
       "  'startswith',\n",
       "  'strip',\n",
       "  'swapcase',\n",
       "  'title',\n",
       "  'translate',\n",
       "  'upper',\n",
       "  'zfill'])"
      ]
     },
     "execution_count": 58,
     "metadata": {},
     "output_type": "execute_result"
    }
   ],
   "source": [
    "dir(u'asd'),dir('asd') #unicode vs str"
   ]
  },
  {
   "cell_type": "code",
   "execution_count": 34,
   "metadata": {
    "collapsed": false
   },
   "outputs": [
    {
     "name": "stdout",
     "output_type": "stream",
     "text": [
      "<__main__.Point instance at 0x7f31fcea07a0>\n",
      "__main__.Point\n",
      "{'_y': 3, '_x': 2}\n"
     ]
    }
   ],
   "source": [
    "#constructor using __init__. Use context manager if destructor is required using __enter__ and __exit__.\n",
    "class Point:\n",
    "    def __init__(self, x, y):\n",
    "        self._x = x\n",
    "        self._y = y\n",
    "p = Point(2,3)\n",
    "print p\n",
    "print p.__class__\n",
    "print p.__dict__"
   ]
  },
  {
   "cell_type": "code",
   "execution_count": 47,
   "metadata": {
    "collapsed": false
   },
   "outputs": [
    {
     "name": "stdout",
     "output_type": "stream",
     "text": [
      "((1, 2, 3), {'a': 2, 'c': 7, 'b': 4})\n",
      "args makes a tuple from a bunch of unnamed arguments and kwargs makes a dictionary form a bunch of named arguments\n",
      "a = 1, b = 2, c = 3\n",
      "a = 10, b = 30, c = 40\n"
     ]
    }
   ],
   "source": [
    "#args vs kwargs\n",
    "\n",
    "def foo(*args,**kwargs):\n",
    "     return args,kwargs\n",
    "print foo(1,2,3,a=2,b=4,c=7)\n",
    "print \"args makes a tuple from a bunch of unnamed arguments and kwargs makes a dictionary form a bunch of named arguments\"\n",
    "\n",
    "#reverse also works\n",
    "def foo2(a,b,c):\n",
    "    print 'a = {0}, b = {1}, c = {2}'.format(a,b,c)\n",
    "l = [1,2,3]\n",
    "foo2(*l)\n",
    "d = {'a':10,'c':40,'b':30}\n",
    "foo2(**d)\n",
    "\n"
   ]
  },
  {
   "cell_type": "code",
   "execution_count": 48,
   "metadata": {
    "collapsed": false
   },
   "outputs": [
    {
     "name": "stdout",
     "output_type": "stream",
     "text": [
      "Hello, world!\n",
      "Hello, solar system!\n",
      "Hello, galaxy!\n"
     ]
    }
   ],
   "source": [
    "#python decorators\n",
    "\n",
    "# define “decorator”.\n",
    "# A decorator is a function that is called by an annotation.\n",
    "\n",
    "#Where do decorators come from?\n",
    "#You write them, just the way that you write other function definitions.\n",
    "\n",
    "def helloSolarSystem(original_function):\n",
    "    def new_function():\n",
    "        original_function()  # the () after \"original_function\" causes original_function to be called\n",
    "        print(\"Hello, solar system!\")\n",
    "    return new_function\n",
    "     \n",
    "def helloGalaxy(original_function):\n",
    "    def new_function():\n",
    "        original_function()  # the parentheses after \"original_function\" cause original_function to be called\n",
    "        print(\"Hello, galaxy!\")\n",
    "    return new_function\n",
    " \n",
    "@helloGalaxy\n",
    "@helloSolarSystem\n",
    "def hello():\n",
    "    print (\"Hello, world!\")\n",
    " \n",
    "# Here is where we actually *do* something!\n",
    "hello()"
   ]
  },
  {
   "cell_type": "code",
   "execution_count": 51,
   "metadata": {
    "collapsed": false
   },
   "outputs": [
    {
     "name": "stdout",
     "output_type": "stream",
     "text": [
      "setter of x called\n",
      "getter of x called\n",
      "3\n",
      "deleter of x called\n"
     ]
    }
   ],
   "source": [
    "#python getter setter using property - the pythonic way\n",
    "class C(object):\n",
    "    def __init__(self):\n",
    "        self._x = None\n",
    "\n",
    "    @property\n",
    "    def x(self):\n",
    "        \"\"\"I'm the 'x' property.\"\"\"\n",
    "        print \"getter of x called\"\n",
    "        return self._x\n",
    "\n",
    "    @x.setter\n",
    "    def x(self, value):\n",
    "        print \"setter of x called\"\n",
    "        self._x = value\n",
    "\n",
    "    @x.deleter\n",
    "    def x(self):\n",
    "        print \"deleter of x called\"\n",
    "        del self._x\n",
    "\n",
    "c = C()\n",
    "c.x = 3 ##setter\n",
    "print c.x ##getter\n",
    "del c.x ##deleter"
   ]
  },
  {
   "cell_type": "code",
   "execution_count": 85,
   "metadata": {
    "collapsed": false
   },
   "outputs": [
    {
     "name": "stdout",
     "output_type": "stream",
     "text": [
      "['__class__', '__delattr__', '__dict__', '__doc__', '__format__', '__getattribute__', '__hash__', '__init__', '__module__', '__new__', '__reduce__', '__reduce_ex__', '__repr__', '__setattr__', '__sizeof__', '__str__', '__subclasshook__', '__weakref__', 'get_value']\n",
      "['__class__', '__delattr__', '__dict__', '__doc__', '__format__', '__getattribute__', '__hash__', '__init__', '__module__', '__new__', '__reduce__', '__reduce_ex__', '__repr__', '__setattr__', '__sizeof__', '__str__', '__subclasshook__', '__weakref__', 'get_value']\n",
      "{'__module__': '__main__', '__doc__': None}\n",
      "{'__module__': '__main__', 'get_value': <function get_value at 0x7f31fca8e848>, '__dict__': <attribute '__dict__' of 'Parent' objects>, '__weakref__': <attribute '__weakref__' of 'Parent' objects>, '__doc__': None, '__init__': <function __init__ at 0x7f31fca8e140>}\n",
      "{'__module__': '__main__', 'get_value': <function get_value at 0x7f31fca8e9b0>, '__doc__': None}\n",
      "{'__module__': '__main__', 'get_value': <function get_value at 0x7f31fca8e938>, '__dict__': <attribute '__dict__' of 'Parent' objects>, '__weakref__': <attribute '__weakref__' of 'Parent' objects>, '__doc__': None, '__init__': <function __init__ at 0x7f31fca8e758>}\n"
     ]
    }
   ],
   "source": [
    "#class method overriding\n",
    "\n",
    "#Before: child obect can inherit get_value from parent but it's not overridden\n",
    "#(not visible in __doc__, but, visible in __dir__\n",
    "class Parent(object):\n",
    "    def __init__(self):\n",
    "        self.value = 5\n",
    "\n",
    "    def get_value(self):\n",
    "        return self.value\n",
    "\n",
    "class Child(Parent):\n",
    "    pass\n",
    "print dir(Child)\n",
    "print dir(Parent)\n",
    "print Parent.__dict__\n",
    "print Child.__dict__\n",
    "\n",
    "#after\n",
    "class Parent(object):\n",
    "    def __init__(self):\n",
    "        self.value = 5\n",
    "\n",
    "    def get_value(self):\n",
    "        return self.value\n",
    "\n",
    "class Child(Parent):\n",
    "    def get_value(self):\n",
    "        return self.value + 1\n",
    "print Parent.__dict__    \n",
    "print Child.__dict__\n"
   ]
  },
  {
   "cell_type": "code",
   "execution_count": 4,
   "metadata": {
    "collapsed": false
   },
   "outputs": [
    {
     "name": "stdout",
     "output_type": "stream",
     "text": [
      "[1, 3, 4, 5]\n",
      "[5, 4, 3, 1]\n",
      "{1: (7, 5), 2: (3, 8), 4: (2, 9), 6: (4, 1)}\n",
      "[(1, (7, 5)), (2, (3, 8)), (4, (2, 9)), (6, (4, 1))]\n",
      "[(4, (2, 9)), (2, (3, 8)), (6, (4, 1)), (1, (7, 5))]\n",
      "[(6, (4, 1)), (1, (7, 5)), (2, (3, 8)), (4, (2, 9))]\n",
      "[{'age': 10, 'name': 'Bart'}, {'age': 39, 'name': 'Homer'}]\n",
      "[{'age': 10, 'name': 'Bart'}, {'age': 39, 'name': 'Homer'}]\n"
     ]
    }
   ],
   "source": [
    "#sorted list\n",
    "?sorted\n",
    "a_dict = dict(zip([2,4,1,6],zip([3,2,7,4],[8,9,5,1])))\n",
    "print sorted([3,4,5,1])\n",
    "print sorted([3,4,5,1],reverse =True)\n",
    "print a_dict\n",
    "print sorted(a_dict.items(),key = lambda (x,y): x)\n",
    "print sorted(a_dict.items(),key = lambda (x, y): y[0])\n",
    "print sorted(a_dict.items(), key=lambda (x, (y1, y2)): y2)\n",
    "\n",
    "b = [{'name':'Homer', 'age':39}, {'name':'Bart', 'age':10}]\n",
    "print sorted(b,key=lambda x:x['name'])\n",
    "from operator import itemgetter\n",
    "print sorted(b, key=itemgetter('name')) "
   ]
  },
  {
   "cell_type": "raw",
   "metadata": {},
   "source": [
    "#Python GIL\n",
    "In CPython, the global interpreter lock, or GIL, is a mutex that prevents \n",
    "multiple native threads from executing Python bytecodes at once. \n",
    "This lock is necessary mainly because CPython's memory management is not thread-safe. \n",
    "(However, since the GIL exists, other features have grown to depend on the guarantees that it enforces.)\n",
    "\n",
    "#GIL - Multithreading vs Multiprocessing\n",
    "The reason people say that multi-threading is not very efficient in python is \n",
    "because of the Global Interpreter Lock. Because of the way the interpreter is written, \n",
    "only one thread can safely execute code in the interpreter at the same time.\n",
    "This means that if you have threads which are quite heavily compute bound, that is, \n",
    "doing lots of stuff in the interpreter, then you effectively still only have \n",
    "the performance of a single threaded program. In this case you might be better off using \n",
    "the multiprocessing module, which has the same interface as the multithreading module \n",
    "but launches multiple copies of the interpreter \n",
    "(the downside of this is that you will have to explicitly share memory).\n",
    "Where you still can reap speed gains from multithreading in python is \n",
    "if you are doing something that is heavily IO bound. \n",
    "While one thread is waiting for disk or network i/o the other threads can still execute, \n",
    "because when threads block they release the interpreter lock."
   ]
  },
  {
   "cell_type": "raw",
   "metadata": {},
   "source": [
    "multiprocessing is a package that supports spawning processes using an API similar to the threading module. The multiprocessing package offers both local and remote concurrency, effectively side-stepping the Global Interpreter Lock by using subprocesses instead of threads. Due to this, the multiprocessing module allows the programmer to fully leverage multiple processors on a given machine. It runs on both Unix and Windows."
   ]
  },
  {
   "cell_type": "code",
   "execution_count": 112,
   "metadata": {
    "collapsed": false
   },
   "outputs": [
    {
     "name": "stdout",
     "output_type": "stream",
     "text": [
      "[1, 4, 9]\n"
     ]
    }
   ],
   "source": [
    "from multiprocessing import Pool\n",
    "\n",
    "def f(x):\n",
    "    return x*x\n",
    "\n",
    "if __name__ == '__main__':\n",
    "    p = Pool(5)\n",
    "    print(p.map(f, [1, 2, 3]))"
   ]
  },
  {
   "cell_type": "code",
   "execution_count": 65,
   "metadata": {
    "collapsed": false
   },
   "outputs": [
    {
     "name": "stdout",
     "output_type": "stream",
     "text": [
      "55\n",
      "470935\n"
     ]
    },
    {
     "ename": "RuntimeError",
     "evalue": "maximum recursion depth exceeded",
     "output_type": "error",
     "traceback": [
      "\u001b[1;31m---------------------------------------------------------------------------\u001b[0m",
      "\u001b[1;31mRuntimeError\u001b[0m                              Traceback (most recent call last)",
      "\u001b[1;32m<ipython-input-65-624eb7e85d29>\u001b[0m in \u001b[0;36m<module>\u001b[1;34m()\u001b[0m\n\u001b[0;32m      7\u001b[0m \u001b[1;32mprint\u001b[0m \u001b[0msumtemp\u001b[0m\u001b[1;33m(\u001b[0m\u001b[1;36m10\u001b[0m\u001b[1;33m)\u001b[0m\u001b[1;33m\u001b[0m\u001b[0m\n\u001b[0;32m      8\u001b[0m \u001b[1;32mprint\u001b[0m \u001b[0msumtemp\u001b[0m\u001b[1;33m(\u001b[0m\u001b[1;36m970\u001b[0m\u001b[1;33m)\u001b[0m\u001b[1;33m\u001b[0m\u001b[0m\n\u001b[1;32m----> 9\u001b[1;33m \u001b[1;32mprint\u001b[0m \u001b[0msumtemp\u001b[0m\u001b[1;33m(\u001b[0m\u001b[1;36m1000\u001b[0m\u001b[1;33m)\u001b[0m\u001b[1;33m\u001b[0m\u001b[0m\n\u001b[0m",
      "\u001b[1;32m<ipython-input-65-624eb7e85d29>\u001b[0m in \u001b[0;36msumtemp\u001b[1;34m(x)\u001b[0m\n\u001b[0;32m      4\u001b[0m         \u001b[1;32mreturn\u001b[0m \u001b[1;36m1\u001b[0m\u001b[1;33m\u001b[0m\u001b[0m\n\u001b[0;32m      5\u001b[0m     \u001b[1;32melse\u001b[0m\u001b[1;33m:\u001b[0m\u001b[1;33m\u001b[0m\u001b[0m\n\u001b[1;32m----> 6\u001b[1;33m         \u001b[1;32mreturn\u001b[0m \u001b[0mx\u001b[0m\u001b[1;33m+\u001b[0m\u001b[0msumtemp\u001b[0m\u001b[1;33m(\u001b[0m\u001b[0mx\u001b[0m\u001b[1;33m-\u001b[0m\u001b[1;36m1\u001b[0m\u001b[1;33m)\u001b[0m\u001b[1;33m\u001b[0m\u001b[0m\n\u001b[0m\u001b[0;32m      7\u001b[0m \u001b[1;32mprint\u001b[0m \u001b[0msumtemp\u001b[0m\u001b[1;33m(\u001b[0m\u001b[1;36m10\u001b[0m\u001b[1;33m)\u001b[0m\u001b[1;33m\u001b[0m\u001b[0m\n\u001b[0;32m      8\u001b[0m \u001b[1;32mprint\u001b[0m \u001b[0msumtemp\u001b[0m\u001b[1;33m(\u001b[0m\u001b[1;36m970\u001b[0m\u001b[1;33m)\u001b[0m\u001b[1;33m\u001b[0m\u001b[0m\n",
      "... last 1 frames repeated, from the frame below ...\n",
      "\u001b[1;32m<ipython-input-65-624eb7e85d29>\u001b[0m in \u001b[0;36msumtemp\u001b[1;34m(x)\u001b[0m\n\u001b[0;32m      4\u001b[0m         \u001b[1;32mreturn\u001b[0m \u001b[1;36m1\u001b[0m\u001b[1;33m\u001b[0m\u001b[0m\n\u001b[0;32m      5\u001b[0m     \u001b[1;32melse\u001b[0m\u001b[1;33m:\u001b[0m\u001b[1;33m\u001b[0m\u001b[0m\n\u001b[1;32m----> 6\u001b[1;33m         \u001b[1;32mreturn\u001b[0m \u001b[0mx\u001b[0m\u001b[1;33m+\u001b[0m\u001b[0msumtemp\u001b[0m\u001b[1;33m(\u001b[0m\u001b[0mx\u001b[0m\u001b[1;33m-\u001b[0m\u001b[1;36m1\u001b[0m\u001b[1;33m)\u001b[0m\u001b[1;33m\u001b[0m\u001b[0m\n\u001b[0m\u001b[0;32m      7\u001b[0m \u001b[1;32mprint\u001b[0m \u001b[0msumtemp\u001b[0m\u001b[1;33m(\u001b[0m\u001b[1;36m10\u001b[0m\u001b[1;33m)\u001b[0m\u001b[1;33m\u001b[0m\u001b[0m\n\u001b[0;32m      8\u001b[0m \u001b[1;32mprint\u001b[0m \u001b[0msumtemp\u001b[0m\u001b[1;33m(\u001b[0m\u001b[1;36m970\u001b[0m\u001b[1;33m)\u001b[0m\u001b[1;33m\u001b[0m\u001b[0m\n",
      "\u001b[1;31mRuntimeError\u001b[0m: maximum recursion depth exceeded"
     ]
    }
   ],
   "source": [
    "#python maximum recursion depth is 1000(only stack for 1000 steps can be stored)\n",
    "def sumtemp(x):\n",
    "    if x==1:\n",
    "        return 1\n",
    "    else:\n",
    "        return x+sumtemp(x-1)\n",
    "print sumtemp(10)\n",
    "print sumtemp(970)\n",
    "print sumtemp(1000)"
   ]
  },
  {
   "cell_type": "code",
   "execution_count": 15,
   "metadata": {
    "collapsed": false
   },
   "outputs": [
    {
     "name": "stdout",
     "output_type": "stream",
     "text": [
      "The slowest run took 8.70 times longer than the fastest. This could mean that an intermediate result is being cached.\n",
      "1000000 loops, best of 3: 822 ns per loop\n",
      "The slowest run took 9.96 times longer than the fastest. This could mean that an intermediate result is being cached.\n",
      "1000000 loops, best of 3: 1.25 µs per loop\n",
      "The slowest run took 5.84 times longer than the fastest. This could mean that an intermediate result is being cached.\n",
      "100000 loops, best of 3: 2.24 µs per loop\n",
      "0 0 0 0.0\n",
      "1 1 1 1.0\n",
      "2 1 1 1.0\n",
      "3 2 2 2.0\n",
      "4 3 3 3.0\n",
      "5 5 5 5.0\n",
      "6 8 8 8.0\n",
      "7 13 13 13.0\n",
      "8 21 21 21.0\n",
      "9 34 34 34.0\n"
     ]
    }
   ],
   "source": [
    "def fib_recursion(n):\n",
    "    if n<=1: return n\n",
    "    return fib(n-1)+fib(n-2)\n",
    "\n",
    "#faster FIBONACCI O(n)\n",
    "def fib(n):\n",
    "    if n<=1: return n\n",
    "    x,y=0,1\n",
    "    for i in xrange(2,n+1):\n",
    "        x,y=y,x+y\n",
    "    return y\n",
    "\n",
    "#FIBONACCI with O(1) - fastest\n",
    "import math\n",
    "def fib_o_1(n):\n",
    "    sqrt_5 = math.sqrt(5)\n",
    "    A=(1. + sqrt_5)/2.\n",
    "    B=(1. - sqrt_5)/2.\n",
    "    return math.floor((pow(A,n) - pow(B,n))/sqrt_5)\n",
    "\n",
    "%timeit fib_o_1(20)\n",
    "%timeit fib(20)\n",
    "%timeit fib_recursion(20)\n",
    "\n",
    "for i in xrange(10):\n",
    "    print i,fib(i),fib_recursion(i),fib_o_1(i)\n"
   ]
  },
  {
   "cell_type": "code",
   "execution_count": 108,
   "metadata": {
    "collapsed": false
   },
   "outputs": [
    {
     "name": "stdout",
     "output_type": "stream",
     "text": [
      "100000 loops, best of 3: 8.69 µs per loop\n",
      "100000 loops, best of 3: 10.1 µs per loop\n",
      "100000 loops, best of 3: 4.39 µs per loop\n",
      "100000 loops, best of 3: 7.44 µs per loop\n"
     ]
    }
   ],
   "source": [
    "\n",
    "#Python does not do tail recursion optimization/elimination for the need to have proper stacktrace\n",
    "#Tail call elimination is an optimization that saves stack space. It replaces a function call with a goto. \n",
    "#Tail recursion elimination is the same thing, but with the added constraint that the function is calling itself.\n",
    "#Basically, if the very last thing a function A does is return A(params...) t\n",
    "#hen you can eliminate the allocation of a stack frame and \n",
    "#instead set the appropriate registers and jump directly into the body of the function. \n",
    "\n",
    "#http://stackoverflow.com/questions/1240539/what-is-tail-recursion-elimination?rq=1\n",
    "\n",
    "\n",
    "    \n",
    "#recursion example - maximum recursion depth 1000 for stacktrace \n",
    "#and more overhead to stacktrace because no tail racursion optimization\n",
    "def factorial(x):\n",
    "    if x == 1:\n",
    "        return x\n",
    "    else:\n",
    "        return x * factorial(x - 1)\n",
    "\n",
    "#better recurstion( avoid tail recursion) - but not much improvement in time - \n",
    "#python does not do tail recursion optimization in order to keep proper tracebacks in stack \n",
    "def tailfactorial(x, running_fatorial=1):\n",
    "    if x == 0:\n",
    "        return running_fatorial\n",
    "    else:\n",
    "        return tailfactorial(x - 1, running_fatorial * x)\n",
    "\n",
    "#no recursion: using reduce - Fastest among all\n",
    "from operator import mul\n",
    "reducefactorial = lambda x: reduce(mul,xrange(1,x))\n",
    "\n",
    "#No recursion: using while\n",
    "def whilefactorial(x):\n",
    "    factorial=1\n",
    "    while True:\n",
    "        if x==1:return factorial\n",
    "        factorial,x = x*factorial,x-1\n",
    "\n",
    "%timeit factorial(50)\n",
    "%timeit tailfactorial(50)\n",
    "%timeit reducefactorial(50)\n",
    "%timeit whilefactorial(50)\n",
    "\n"
   ]
  },
  {
   "cell_type": "code",
   "execution_count": 125,
   "metadata": {
    "collapsed": false
   },
   "outputs": [
    {
     "name": "stdout",
     "output_type": "stream",
     "text": [
      "(1, 2, 3)\n",
      "(1, 3, 2)\n",
      "(2, 1, 3)\n",
      "(2, 3, 1)\n",
      "(3, 1, 2)\n",
      "(3, 2, 1)\n",
      "**********\n",
      "[[1, 2, 3], [2, 1, 3], [2, 3, 1], [1, 3, 2], [3, 1, 2], [3, 2, 1]]\n"
     ]
    }
   ],
   "source": [
    "#permutations\n",
    "s = [1,2,3]\n",
    "for i in ((x,y,z) for x in s for y in s for z in s if(x!=y)and(y!=z)and(x!=z)): print i\n",
    "    \n",
    "def all_perms(elements):\n",
    "    if len(elements) <=1:\n",
    "        yield elements\n",
    "    else:\n",
    "        for perm in all_perms(elements[1:]):\n",
    "            for i in range(len(elements)):\n",
    "                # nb elements[0:1] works in both string and list contexts\n",
    "                yield perm[:i] + elements[0:1] + perm[i:]\n",
    "print \"*\"*10\n",
    "print [i for i in all_perms(s)]"
   ]
  },
  {
   "cell_type": "code",
   "execution_count": 82,
   "metadata": {
    "collapsed": false
   },
   "outputs": [
    {
     "name": "stdout",
     "output_type": "stream",
     "text": [
      "[1, 3, 4, 5, 6, 7, 12, 15]\n"
     ]
    }
   ],
   "source": [
    "#quicksort with python\n",
    "#best O(n), worst O(n^2),average O(nlogn)\n",
    "def quicksort(array=[12,4,5,6,7,3,1,15]):\n",
    "    less = []\n",
    "    equal = []\n",
    "    greater = []\n",
    "\n",
    "    if len(array) > 1:\n",
    "        pivot = array[0]\n",
    "        for x in array:\n",
    "            if x < pivot:\n",
    "                less.append(x)\n",
    "            if x == pivot:\n",
    "                equal.append(x)\n",
    "            if x > pivot:\n",
    "                greater.append(x)\n",
    "        # Don't forget to return something!\n",
    "        return quicksort(less)+equal+quicksort(greater)  # Just use the + operator to join lists\n",
    "    # Note that you want equal ^^^^^ not pivot\n",
    "    else:  # You need to hande the part at the end of the recursion - when you only have one element in your array, just return the array.\n",
    "        return array\n",
    "print quicksort()"
   ]
  },
  {
   "cell_type": "code",
   "execution_count": 87,
   "metadata": {
    "collapsed": false
   },
   "outputs": [
    {
     "name": "stdout",
     "output_type": "stream",
     "text": [
      "[1, 3, 4, 5, 6, 7, 12, 15]\n"
     ]
    }
   ],
   "source": [
    "#insertion sort\n",
    "#best O(n), worst O(n^2),average O(n^2)\n",
    "def insertionsort(array=[12,4,5,6,7,3,1,15]):\n",
    "    for i in range(1,len(array)):\n",
    "        for j in range(i,0,-1):\n",
    "            #print array\n",
    "            if array[j]<array[j-1]:\n",
    "                array[j],array[j-1]=array[j-1],array[j]\n",
    "            else:\n",
    "                break\n",
    "    return array\n",
    "print insertionsort()                         \n",
    "    "
   ]
  },
  {
   "cell_type": "code",
   "execution_count": 74,
   "metadata": {
    "collapsed": false
   },
   "outputs": [
    {
     "name": "stdout",
     "output_type": "stream",
     "text": [
      "0 0 [3, 5, 65, 23, 54]\n",
      "0 1 [3, 5, 65, 23, 54]\n",
      "0 2 [3, 5, 23, 65, 54]\n",
      "0 3 [3, 5, 23, 54, 65]\n",
      "1 0 [3, 5, 23, 54, 65]\n",
      "1 1 [3, 5, 23, 54, 65]\n",
      "1 2 [3, 5, 23, 54, 65]\n",
      "2 0 [3, 5, 23, 54, 65]\n",
      "2 1 [3, 5, 23, 54, 65]\n",
      "3 0 [3, 5, 23, 54, 65]\n",
      "[3, 5, 23, 54, 65]\n"
     ]
    }
   ],
   "source": [
    "#bubble sort\n",
    "#best O(n), worst O(n^2),average O(n^2)\n",
    "q = [5,3,65,23,54]\n",
    "for i in xrange(len(q)):\n",
    "    for j in xrange(len(q)-1-i):\n",
    "        if q[j]>q[j+1]:\n",
    "            q[j],q[j+1] = q[j+1],q[j]\n",
    "        print i,j,q\n",
    "print q"
   ]
  },
  {
   "cell_type": "code",
   "execution_count": 1,
   "metadata": {
    "collapsed": false
   },
   "outputs": [
    {
     "name": "stdout",
     "output_type": "stream",
     "text": [
      "(100000, 2) (100000,)\n",
      "3.12656\n"
     ]
    }
   ],
   "source": [
    "#estimation of PI\n",
    "import numpy as np\n",
    "N=100000\n",
    "a = np.random.uniform(0,1,(N,2))\n",
    "b = np.sqrt(np.power(a[:,0],2)+np.power(a[:,1],2))\n",
    "print a.shape, b.shape\n",
    "print 4.*sum(b<=1)/N"
   ]
  },
  {
   "cell_type": "code",
   "execution_count": 7,
   "metadata": {
    "collapsed": false
   },
   "outputs": [
    {
     "data": {
      "text/plain": [
       "[5, 4, 2, []]"
      ]
     },
     "execution_count": 7,
     "metadata": {},
     "output_type": "execute_result"
    }
   ],
   "source": [
    "a=[0]\n",
    "b = [5,4,2]\n",
    "b.append(a[5:])\n",
    "b\n"
   ]
  },
  {
   "cell_type": "code",
   "execution_count": 75,
   "metadata": {
    "collapsed": false
   },
   "outputs": [
    {
     "name": "stdout",
     "output_type": "stream",
     "text": [
      "[0, 1, 2, 3, 4] [5, 6, 7, 8, 9]\n"
     ]
    }
   ],
   "source": [
    "a= range(10)\n",
    "print a[:5],a[-5:]"
   ]
  },
  {
   "cell_type": "code",
   "execution_count": 80,
   "metadata": {
    "collapsed": false
   },
   "outputs": [
    {
     "data": {
      "text/plain": [
       "[555555555555555555555555555555555555555555555L,\n",
       " 2222222222222222222222222222222222222222L,\n",
       " 345345L]"
      ]
     },
     "execution_count": 80,
     "metadata": {},
     "output_type": "execute_result"
    }
   ],
   "source": [
    "map(long,\"555555555555555555555555555555555555555555555 2222222222222222222222222222222222222222 345345\".strip().split())"
   ]
  },
  {
   "cell_type": "markdown",
   "metadata": {},
   "source": [
    "__str__ vs __repr__\n",
    "\n",
    "__str__ is to make object readable\n",
    "__repr__ is to make it unambiguous\n",
    "\n",
    "http://stackoverflow.com/questions/1436703/difference-between-str-and-repr-in-python"
   ]
  },
  {
   "cell_type": "markdown",
   "metadata": {},
   "source": [
    "Algorithms:\n",
    "https://medium.com/@_marcos_otero/the-real-10-algorithms-that-dominate-our-world-e95fa9f16c04#.3285znnfv"
   ]
  },
  {
   "cell_type": "raw",
   "metadata": {},
   "source": []
  }
 ],
 "metadata": {
  "kernelspec": {
   "display_name": "Python 2",
   "language": "python",
   "name": "python2"
  },
  "language_info": {
   "codemirror_mode": {
    "name": "ipython",
    "version": 2
   },
   "file_extension": ".py",
   "mimetype": "text/x-python",
   "name": "python",
   "nbconvert_exporter": "python",
   "pygments_lexer": "ipython2",
   "version": "2.7.12"
  }
 },
 "nbformat": 4,
 "nbformat_minor": 0
}
