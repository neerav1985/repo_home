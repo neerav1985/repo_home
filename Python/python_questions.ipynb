{
 "cells": [
  {
   "cell_type": "markdown",
   "metadata": {},
   "source": [
    "##__builtin__\n",
    "https://docs.python.org/2/library/functions.html"
   ]
  },
  {
   "cell_type": "raw",
   "metadata": {},
   "source": [
    "There are currently two built-in set types, set and frozenset. \n",
    "The set type is mutable — the contents can be changed using methods like add() and remove(). \n",
    "Since it is mutable, it has no hash value and cannot be used as either a dictionary key \n",
    "or as an element of another set. \n",
    "The frozenset type is immutable and hashable — its contents cannot be altered after it is created; \n",
    "it can therefore be used as a dictionary key or as an element of another set."
   ]
  },
  {
   "cell_type": "raw",
   "metadata": {},
   "source": [
    "divmod(a, b)\n",
    "Take two (non complex) numbers as arguments and return a pair of numbers consisting \n",
    "of their quotient and remainder when using long division. \n",
    "With mixed operand types, the rules for binary arithmetic operators apply. \n",
    "For plain and long integers, the result is the same as (a // b, a % b). \n",
    "For floating point numbers the result is (q, a % b), \n",
    "where q is usually math.floor(a / b) but may be 1 less than that. \n",
    "In any case q * b + a % b is very close to a, \n",
    "if a % b is non-zero it has the same sign as b, and 0 <= abs(a % b) < abs(b)."
   ]
  },
  {
   "cell_type": "code",
   "execution_count": 60,
   "metadata": {
    "collapsed": false
   },
   "outputs": [
    {
     "name": "stdout",
     "output_type": "stream",
     "text": [
      "True\n",
      "False\n"
     ]
    }
   ],
   "source": [
    "##is vs ==\n",
    "a = 'pub'\n",
    "b = ''.join(['p', 'u', 'b'])\n",
    "print a == b\n",
    "print a is b"
   ]
  },
  {
   "cell_type": "code",
   "execution_count": 72,
   "metadata": {
    "collapsed": false
   },
   "outputs": [
    {
     "name": "stdout",
     "output_type": "stream",
     "text": [
      "0\n",
      "1\n",
      "4\n",
      "0\n",
      "1\n",
      "4\n",
      "<generator object createGenerator at 0x7f31fd089870>\n",
      "0\n",
      "1\n",
      "4\n"
     ]
    }
   ],
   "source": [
    "#list comprehension\n",
    "\n",
    "mylist = [x*x for x in range(3)]\n",
    "for i in mylist:\n",
    "    print(i)\n",
    "\n",
    "#Generators are iterators, but you can only iterate over them once. It's because they do not store all the values in memory, they generate the values on the fly:\n",
    "\n",
    "mygenerator = (x*x for x in range(3))\n",
    "for i in mygenerator:\n",
    "    print(i)\n",
    "\n",
    "\n",
    "#Yield is a keyword that is used like return, except the function will return a generator.\n",
    "\n",
    "def createGenerator():\n",
    "    mylist = range(3)\n",
    "    for i in mylist:\n",
    "        yield i*i\n",
    "\n",
    "mygenerator = createGenerator() # create a generator\n",
    "print(mygenerator) # mygenerator is an object!\n",
    "for i in mygenerator:\n",
    "    print(i)\n",
    "\n"
   ]
  },
  {
   "cell_type": "code",
   "execution_count": 73,
   "metadata": {
    "collapsed": false
   },
   "outputs": [
    {
     "name": "stdout",
     "output_type": "stream",
     "text": [
      "(0, 0)\n",
      "(1, 1)\n",
      "(2, 2)\n",
      "(3, 3)\n",
      "(4, 4)\n"
     ]
    }
   ],
   "source": [
    "#to get index and value in a list/sequesnce\n",
    "for idx, val in enumerate(range(5)):\n",
    "    print(idx, val)"
   ]
  },
  {
   "cell_type": "raw",
   "metadata": {},
   "source": [
    "#range creates a list, so if you do range(1, 10000000) it creates a list in memory with 9999999 elements.\n",
    "#xrange is a sequence object that evaluates lazily. - xrange is not a generator but acts like one."
   ]
  },
  {
   "cell_type": "markdown",
   "metadata": {},
   "source": [
    "#concurrency/parallelism\n",
    "https://www.toptal.com/python/beginners-guide-to-concurrency-and-parallelism-in-python"
   ]
  },
  {
   "cell_type": "raw",
   "metadata": {},
   "source": [
    "#python excception handling\n",
    "something = some_default_value\n",
    "try:\n",
    "    something = try_this(whatever)\n",
    "except SomeException as exception:\n",
    "    #Handle exception\n",
    "finally:\n",
    "    return something"
   ]
  },
  {
   "cell_type": "raw",
   "metadata": {},
   "source": [
    "#explanation\n",
    "try:\n",
    "    try_this(whatever) \n",
    "except SomeException as the_exception:\n",
    "    handle(the_exception)\n",
    "    # Handle a instance of SomeException or a subclass of it.\n",
    "except Exception as the_exception:\n",
    "    generic_handle(the_exception)\n",
    "    # Handle any other exception that inherits from Exception\n",
    "    # - doesn't include GeneratorExit, KeyboardInterrupt, SystemExit\n",
    "else: # there was no exception whatsoever\n",
    "    return something() \n",
    "    # if no exception, the \"something()\" gets evaluated, \n",
    "    # but the return will not be executed due to the return in the \n",
    "    # finally block below.\n",
    "finally:\n",
    "    # this block will execute no matter what, even if no exception,\n",
    "    # after \"something\" is eval'd but before that value is returned\n",
    "    # but even if there is an exception.\n",
    "    # a return here will hijack the return functionality. e.g.:\n",
    "    return True # hijacks the return in the else clause above"
   ]
  },
  {
   "cell_type": "code",
   "execution_count": 81,
   "metadata": {
    "collapsed": false
   },
   "outputs": [
    {
     "name": "stdout",
     "output_type": "stream",
     "text": [
      "Infinite result\n",
      "('float division by zero',)\n",
      "float division by zero\n"
     ]
    }
   ],
   "source": [
    "#try/except/finally\n",
    "try:\n",
    "     recip = 1 / 0.\n",
    "except ZeroDivisionError as e:\n",
    "    print 'Infinite result'\n",
    "    print e.args\n",
    "    print e\n",
    "else:\n",
    "    print 'Finite result'"
   ]
  },
  {
   "cell_type": "raw",
   "metadata": {},
   "source": [
    "#catch multiple excceptions\n",
    "try:\n",
    "    mainstuff()\n",
    "except (KeyboardInterrupt, EOFError) as err: \n",
    "    print(err)\n",
    "    print(err.args)\n",
    "    quit(0)"
   ]
  },
  {
   "cell_type": "code",
   "execution_count": 78,
   "metadata": {
    "collapsed": false
   },
   "outputs": [
    {
     "name": "stdout",
     "output_type": "stream",
     "text": [
      "executing foo(<__main__.A object at 0x7f31fca8b9d0>,1)\n",
      "executing class_foo(<class '__main__.A'>,1)\n",
      "executing class_foo(<class '__main__.A'>,1)\n",
      "executing static_foo(1)\n",
      "executing static_foo(1)\n"
     ]
    }
   ],
   "source": [
    "#object method vs class method vs static method\n",
    "class A(object):\n",
    "    def foo(self,x):\n",
    "        print \"executing foo(%s,%s)\"%(self,x)\n",
    "\n",
    "    @classmethod\n",
    "    def class_foo(cls,x):\n",
    "        print \"executing class_foo(%s,%s)\"%(cls,x)\n",
    "\n",
    "    @staticmethod\n",
    "    def static_foo(x):\n",
    "        print \"executing static_foo(%s)\"%x    \n",
    "\n",
    "a=A()\n",
    "a.foo(1)\n",
    "a.class_foo(1)\n",
    "A.class_foo(1)\n",
    "a.static_foo(1)\n",
    "A.static_foo(1)"
   ]
  },
  {
   "cell_type": "code",
   "execution_count": 71,
   "metadata": {
    "collapsed": true
   },
   "outputs": [],
   "source": [
    "##use of metaclass to create Singleton\n",
    "class Singleton(type):\n",
    "    _instances = {}\n",
    "    def __call__(cls, *args, **kwargs):\n",
    "        if cls not in cls._instances:\n",
    "            cls._instances[cls] = super(Singleton, cls).__call__(*args, **kwargs)\n",
    "        return cls._instances[cls]\n",
    "\n",
    "class Logger(object):\n",
    "    __metaclass__ = Singleton"
   ]
  },
  {
   "cell_type": "code",
   "execution_count": 68,
   "metadata": {
    "collapsed": false
   },
   "outputs": [
    {
     "name": "stdout",
     "output_type": "stream",
     "text": [
      ".\n",
      "..\n",
      "binarytree.py\n",
      "binarytree.pyc\n"
     ]
    }
   ],
   "source": [
    "#python command output and error \n",
    "import subprocess\n",
    "p = subprocess.Popen(['ls', '-a'], stdout=subprocess.PIPE, \n",
    "                     stderr=subprocess.PIPE)\n",
    "out, err = p.communicate()\n",
    "print out[:33]"
   ]
  },
  {
   "cell_type": "code",
   "execution_count": 69,
   "metadata": {
    "collapsed": false
   },
   "outputs": [
    {
     "data": {
      "text/plain": [
       "0.6666666666666666"
      ]
     },
     "execution_count": 69,
     "metadata": {},
     "output_type": "execute_result"
    }
   ],
   "source": [
    "##float output for integer devision\n",
    "from __future__ import division\n",
    "a = 4\n",
    "b = 6\n",
    "c = a / b\n",
    "c"
   ]
  },
  {
   "cell_type": "code",
   "execution_count": 70,
   "metadata": {
    "collapsed": false
   },
   "outputs": [
    {
     "data": {
      "text/plain": [
       "'true'"
      ]
     },
     "execution_count": 70,
     "metadata": {},
     "output_type": "execute_result"
    }
   ],
   "source": [
    "#ternary operator in python\n",
    "'true' if True else 'false'"
   ]
  },
  {
   "cell_type": "code",
   "execution_count": 58,
   "metadata": {
    "collapsed": false
   },
   "outputs": [
    {
     "name": "stdout",
     "output_type": "stream",
     "text": [
      "set([0, 1, 2, 3, 4])\n",
      "frozenset([0, 1, 2, 3, 4])\n"
     ]
    }
   ],
   "source": [
    "print set(range(5)+[4]) #mutable(not hashable) - can't be used in dict\n",
    "print frozenset(range(5)+[4]) #imutable - can be used in dict"
   ]
  },
  {
   "cell_type": "code",
   "execution_count": 12,
   "metadata": {
    "collapsed": false
   },
   "outputs": [
    {
     "data": {
      "text/plain": [
       "'asdasdasdasdasdasdasdasdasdasdasdasdasdasdasdasdasdasdasdasd'"
      ]
     },
     "execution_count": 12,
     "metadata": {},
     "output_type": "execute_result"
    }
   ],
   "source": [
    "\"asd\"*20"
   ]
  },
  {
   "cell_type": "code",
   "execution_count": 22,
   "metadata": {
    "collapsed": false
   },
   "outputs": [
    {
     "name": "stdout",
     "output_type": "stream",
     "text": [
      "[0, 1, 2, 5] [0, 1, 2, 5] [0, 1, 2, 4] [0, 1, 2, 5]\n",
      "139852672236504 139852672236504 139852672672040 139852672236504\n",
      "asd asdqwe asdzxc asdqwe\n",
      "139852671333120 139852670324880 139852670325936 139852670324880\n"
     ]
    }
   ],
   "source": [
    "#mutable vs immutable\n",
    "a= range(3)\n",
    "c=a\n",
    "d=a+[4]\n",
    "c.append(5)\n",
    "e=c\n",
    "print a,c,d,e\n",
    "print id(a),id(c),id(d),id(e)\n",
    "\n",
    "p=\"asd\"\n",
    "r=p\n",
    "s=p+\"zxc\"\n",
    "r+=\"qwe\"\n",
    "t=r\n",
    "print p,r,s,t\n",
    "print id(p),id(r),id(s),id(t)"
   ]
  },
  {
   "cell_type": "code",
   "execution_count": 56,
   "metadata": {
    "collapsed": false
   },
   "outputs": [
    {
     "name": "stdout",
     "output_type": "stream",
     "text": [
      "['foo\\n', 'appended text']\n"
     ]
    }
   ],
   "source": [
    "#context manager\n",
    "class File():\n",
    "\n",
    "    def __init__(self, filename, mode):\n",
    "        self.filename = filename\n",
    "        self.mode = mode\n",
    "\n",
    "    def __enter__(self):\n",
    "        self.open_file = open(self.filename, self.mode)\n",
    "        return self.open_file\n",
    "\n",
    "    def __exit__(self, *args):\n",
    "        self.open_file.close()\n",
    "\n",
    "files = []\n",
    "for _ in range(10):\n",
    "    with File('foo.txt', 'w') as infile:\n",
    "        infile.write('foo')\n",
    "        files.append(infile)\n",
    "##append\n",
    "with open(\"foo.txt\", \"a\") as myfile:\n",
    "    myfile.write(\"\\nappended text\")\n",
    "##read\n",
    "with open(\"foo.txt\", \"r\") as myfile:\n",
    "    l = myfile.readlines()\n",
    "print l"
   ]
  },
  {
   "cell_type": "code",
   "execution_count": 15,
   "metadata": {
    "collapsed": false
   },
   "outputs": [
    {
     "data": {
      "text/plain": [
       "False"
      ]
     },
     "execution_count": 15,
     "metadata": {},
     "output_type": "execute_result"
    }
   ],
   "source": [
    "u'20.3'.isdecimal()"
   ]
  },
  {
   "cell_type": "code",
   "execution_count": 34,
   "metadata": {
    "collapsed": false
   },
   "outputs": [
    {
     "name": "stdout",
     "output_type": "stream",
     "text": [
      "<__main__.Point instance at 0x7f31fcea07a0>\n",
      "__main__.Point\n",
      "{'_y': 3, '_x': 2}\n"
     ]
    }
   ],
   "source": [
    "#constructor\n",
    "class Point:\n",
    "    def __init__(self, x, y):\n",
    "        self._x = x\n",
    "        self._y = y\n",
    "p = Point(2,3)\n",
    "print p\n",
    "print p.__class__\n",
    "print p.__dict__"
   ]
  },
  {
   "cell_type": "code",
   "execution_count": 47,
   "metadata": {
    "collapsed": false
   },
   "outputs": [
    {
     "name": "stdout",
     "output_type": "stream",
     "text": [
      "((1, 2, 3), {'a': 2, 'c': 7, 'b': 4})\n",
      "args makes a tuple from a bunch of unnamed arguments and kwargs makes a dictionary form a bunch of named arguments\n",
      "a = 1, b = 2, c = 3\n",
      "a = 10, b = 30, c = 40\n"
     ]
    }
   ],
   "source": [
    "#args vs kwargs\n",
    "\n",
    "def foo(*args,**kwargs):\n",
    "     return args,kwargs\n",
    "print foo(1,2,3,a=2,b=4,c=7)\n",
    "print \"args makes a tuple from a bunch of unnamed arguments and kwargs makes a dictionary form a bunch of named arguments\"\n",
    "\n",
    "#reverse also works\n",
    "def foo2(a,b,c):\n",
    "    print 'a = {0}, b = {1}, c = {2}'.format(a,b,c)\n",
    "l = [1,2,3]\n",
    "foo2(*l)\n",
    "d = {'a':10,'c':40,'b':30}\n",
    "foo2(**d)\n",
    "\n"
   ]
  },
  {
   "cell_type": "code",
   "execution_count": 48,
   "metadata": {
    "collapsed": false
   },
   "outputs": [
    {
     "name": "stdout",
     "output_type": "stream",
     "text": [
      "Hello, world!\n",
      "Hello, solar system!\n",
      "Hello, galaxy!\n"
     ]
    }
   ],
   "source": [
    "#python decorators\n",
    "\n",
    "# define “decorator”.\n",
    "# A decorator is a function that is called by an annotation.\n",
    "\n",
    "#Where where do decorators come from?\n",
    "#You write them, just the way that you write other function definitions.\n",
    "\n",
    "def helloSolarSystem(original_function):\n",
    "    def new_function():\n",
    "        original_function()  # the () after \"original_function\" causes original_function to be called\n",
    "        print(\"Hello, solar system!\")\n",
    "    return new_function\n",
    "     \n",
    "def helloGalaxy(original_function):\n",
    "    def new_function():\n",
    "        original_function()  # the parentheses after \"original_function\" cause original_function to be called\n",
    "        print(\"Hello, galaxy!\")\n",
    "    return new_function\n",
    " \n",
    "@helloGalaxy\n",
    "@helloSolarSystem\n",
    "def hello():\n",
    "    print (\"Hello, world!\")\n",
    " \n",
    "# Here is where we actually *do* something!\n",
    "hello()"
   ]
  },
  {
   "cell_type": "code",
   "execution_count": 51,
   "metadata": {
    "collapsed": false
   },
   "outputs": [
    {
     "name": "stdout",
     "output_type": "stream",
     "text": [
      "setter of x called\n",
      "getter of x called\n",
      "3\n",
      "deleter of x called\n"
     ]
    }
   ],
   "source": [
    "#python getter setter using property - the pythonic way\n",
    "class C(object):\n",
    "    def __init__(self):\n",
    "        self._x = None\n",
    "\n",
    "    @property\n",
    "    def x(self):\n",
    "        \"\"\"I'm the 'x' property.\"\"\"\n",
    "        print \"getter of x called\"\n",
    "        return self._x\n",
    "\n",
    "    @x.setter\n",
    "    def x(self, value):\n",
    "        print \"setter of x called\"\n",
    "        self._x = value\n",
    "\n",
    "    @x.deleter\n",
    "    def x(self):\n",
    "        print \"deleter of x called\"\n",
    "        del self._x\n",
    "\n",
    "c = C()\n",
    "c.x = 3 ##setter\n",
    "print c.x ##getter\n",
    "del c.x ##deleter"
   ]
  },
  {
   "cell_type": "markdown",
   "metadata": {},
   "source": [
    "__str__ vs __repr__\n",
    "\n",
    "__str__ is to make object readable\n",
    "__repr__ is to make it unambiguous\n",
    "\n",
    "http://stackoverflow.com/questions/1436703/difference-between-str-and-repr-in-python"
   ]
  },
  {
   "cell_type": "code",
   "execution_count": 2,
   "metadata": {
    "collapsed": false
   },
   "outputs": [
    {
     "name": "stdout",
     "output_type": "stream",
     "text": [
      "                  Open        High         Low       Close    Volume  \\\n",
      "Date                                                                   \n",
      "2016-01-04  102.610001  105.370003  102.000000  105.349998  67649400   \n",
      "2016-01-05  105.750000  105.849998  102.410004  102.709999  55791000   \n",
      "2016-01-06  100.559998  102.370003   99.870003  100.699997  68457400   \n",
      "2016-01-07   98.680000  100.129997   96.430000   96.449997  81094400   \n",
      "2016-01-08   98.550003   99.110001   96.760002   96.959999  70798000   \n",
      "\n",
      "             Adj Close  \n",
      "Date                    \n",
      "2016-01-04  103.057063  \n",
      "2016-01-05  100.474523  \n",
      "2016-01-06   98.508268  \n",
      "2016-01-07   94.350769  \n",
      "2016-01-08   94.849671  \n"
     ]
    }
   ],
   "source": [
    "import pandas.io.data as web\n",
    "import datetime\n",
    "\n",
    "start = datetime.datetime(2016, 1, 1)\n",
    "end = datetime.datetime.today() - datetime.timedelta(days=1)\n",
    "\n",
    "f=web.DataReader(\"AAPL\", 'yahoo', start, end)\n",
    "print f.head()"
   ]
  },
  {
   "cell_type": "code",
   "execution_count": 10,
   "metadata": {
    "collapsed": false
   },
   "outputs": [
    {
     "name": "stdout",
     "output_type": "stream",
     "text": [
      "[-3 -2 -1  0  1  2  3]\n",
      "12\n",
      "6\n",
      "5.29150262213\n"
     ]
    }
   ],
   "source": [
    "import numpy as np\n",
    "\n",
    "a = np.arange(-3,4,1)\n",
    "print a\n",
    "print np.linalg.norm(a,1)\n",
    "print np.linalg.norm(a,0)\n",
    "print np.linalg.norm(a,2)"
   ]
  },
  {
   "cell_type": "code",
   "execution_count": 19,
   "metadata": {
    "collapsed": false
   },
   "outputs": [
    {
     "ename": "DCPError",
     "evalue": "Problem does not follow DCP rules.",
     "output_type": "error",
     "traceback": [
      "\u001b[1;31m---------------------------------------------------------------------------\u001b[0m",
      "\u001b[1;31mDCPError\u001b[0m                                  Traceback (most recent call last)",
      "\u001b[1;32m<ipython-input-19-2a2ee80fd219>\u001b[0m in \u001b[0;36m<module>\u001b[1;34m()\u001b[0m\n\u001b[0;32m     16\u001b[0m \u001b[1;33m\u001b[0m\u001b[0m\n\u001b[0;32m     17\u001b[0m \u001b[1;31m# The optimal objective is returned by prob.solve().\u001b[0m\u001b[1;33m\u001b[0m\u001b[1;33m\u001b[0m\u001b[0m\n\u001b[1;32m---> 18\u001b[1;33m \u001b[0mresult\u001b[0m \u001b[1;33m=\u001b[0m \u001b[0mprob\u001b[0m\u001b[1;33m.\u001b[0m\u001b[0msolve\u001b[0m\u001b[1;33m(\u001b[0m\u001b[1;33m)\u001b[0m\u001b[1;33m\u001b[0m\u001b[0m\n\u001b[0m\u001b[0;32m     19\u001b[0m \u001b[1;31m# The optimal value for x is stored in x.value.\u001b[0m\u001b[1;33m\u001b[0m\u001b[1;33m\u001b[0m\u001b[0m\n\u001b[0;32m     20\u001b[0m \u001b[1;32mprint\u001b[0m \u001b[0mx\u001b[0m\u001b[1;33m.\u001b[0m\u001b[0mvalue\u001b[0m\u001b[1;33m\u001b[0m\u001b[0m\n",
      "\u001b[1;32m/usr/local/lib/python2.7/dist-packages/cvxpy/problems/problem.pyc\u001b[0m in \u001b[0;36msolve\u001b[1;34m(self, *args, **kwargs)\u001b[0m\n\u001b[0;32m    208\u001b[0m             \u001b[1;32mreturn\u001b[0m \u001b[0mfunc\u001b[0m\u001b[1;33m(\u001b[0m\u001b[0mself\u001b[0m\u001b[1;33m,\u001b[0m \u001b[1;33m*\u001b[0m\u001b[0margs\u001b[0m\u001b[1;33m,\u001b[0m \u001b[1;33m**\u001b[0m\u001b[0mkwargs\u001b[0m\u001b[1;33m)\u001b[0m\u001b[1;33m\u001b[0m\u001b[0m\n\u001b[0;32m    209\u001b[0m         \u001b[1;32melse\u001b[0m\u001b[1;33m:\u001b[0m\u001b[1;33m\u001b[0m\u001b[0m\n\u001b[1;32m--> 210\u001b[1;33m             \u001b[1;32mreturn\u001b[0m \u001b[0mself\u001b[0m\u001b[1;33m.\u001b[0m\u001b[0m_solve\u001b[0m\u001b[1;33m(\u001b[0m\u001b[1;33m*\u001b[0m\u001b[0margs\u001b[0m\u001b[1;33m,\u001b[0m \u001b[1;33m**\u001b[0m\u001b[0mkwargs\u001b[0m\u001b[1;33m)\u001b[0m\u001b[1;33m\u001b[0m\u001b[0m\n\u001b[0m\u001b[0;32m    211\u001b[0m \u001b[1;33m\u001b[0m\u001b[0m\n\u001b[0;32m    212\u001b[0m     \u001b[1;33m@\u001b[0m\u001b[0mclassmethod\u001b[0m\u001b[1;33m\u001b[0m\u001b[0m\n",
      "\u001b[1;32m/usr/local/lib/python2.7/dist-packages/cvxpy/problems/problem.pyc\u001b[0m in \u001b[0;36m_solve\u001b[1;34m(self, solver, ignore_dcp, warm_start, verbose, parallel, **kwargs)\u001b[0m\n\u001b[0;32m    282\u001b[0m                       \"Solving a convex relaxation.\")\n\u001b[0;32m    283\u001b[0m             \u001b[1;32melse\u001b[0m\u001b[1;33m:\u001b[0m\u001b[1;33m\u001b[0m\u001b[0m\n\u001b[1;32m--> 284\u001b[1;33m                 \u001b[1;32mraise\u001b[0m \u001b[0mDCPError\u001b[0m\u001b[1;33m(\u001b[0m\u001b[1;34m\"Problem does not follow DCP rules.\"\u001b[0m\u001b[1;33m)\u001b[0m\u001b[1;33m\u001b[0m\u001b[0m\n\u001b[0m\u001b[0;32m    285\u001b[0m \u001b[1;33m\u001b[0m\u001b[0m\n\u001b[0;32m    286\u001b[0m         \u001b[1;32mif\u001b[0m \u001b[0msolver\u001b[0m \u001b[1;33m==\u001b[0m \u001b[0ms\u001b[0m\u001b[1;33m.\u001b[0m\u001b[0mLS\u001b[0m\u001b[1;33m:\u001b[0m\u001b[1;33m\u001b[0m\u001b[0m\n",
      "\u001b[1;31mDCPError\u001b[0m: Problem does not follow DCP rules."
     ]
    }
   ],
   "source": [
    "from cvxpy import *\n",
    "import numpy\n",
    "\n",
    "# Problem data.\n",
    "m = 30\n",
    "n = 20\n",
    "numpy.random.seed(1)\n",
    "A = numpy.random.randn(n, n)\n",
    "b = numpy.random.randn(n)\n",
    "\n",
    "# Construct the problem.\n",
    "x = Variable(n)\n",
    "objective = Minimize(norm1(x.T*A*x - b))\n",
    "constraints = [0 <= x, x <= 1]\n",
    "prob = Problem(objective, constraints)\n",
    "\n",
    "# The optimal objective is returned by prob.solve().\n",
    "result = prob.solve()\n",
    "# The optimal value for x is stored in x.value.\n",
    "print x.value\n",
    "# The optimal Lagrange multiplier for a constraint\n",
    "# is stored in constraint.dual_value.\n",
    "print constraints[0].dual_value\n",
    "print x.T"
   ]
  },
  {
   "cell_type": "code",
   "execution_count": 13,
   "metadata": {
    "collapsed": false
   },
   "outputs": [
    {
     "data": {
      "text/plain": [
       "['Bool',\n",
       " 'CBC',\n",
       " 'CVXOPT',\n",
       " 'CallbackParam',\n",
       " 'Constant',\n",
       " 'ECOS',\n",
       " 'ECOS_BB',\n",
       " 'ELEMENTAL',\n",
       " 'GLPK',\n",
       " 'GLPK_MI',\n",
       " 'GUROBI',\n",
       " 'INFEASIBLE',\n",
       " 'INFEASIBLE_INACCURATE',\n",
       " 'Int',\n",
       " 'LS',\n",
       " 'MOSEK',\n",
       " 'Maximize',\n",
       " 'Minimize',\n",
       " 'NonNegative',\n",
       " 'OPTIMAL',\n",
       " 'OPTIMAL_INACCURATE',\n",
       " 'Parameter',\n",
       " 'Problem',\n",
       " 'ROBUST_KKTSOLVER',\n",
       " 'SCS',\n",
       " 'SOLVER_ERROR',\n",
       " 'Semidef',\n",
       " 'SolverError',\n",
       " 'Symmetric',\n",
       " 'UNBOUNDED',\n",
       " 'UNBOUNDED_INACCURATE',\n",
       " 'Variable',\n",
       " '__builtins__',\n",
       " '__doc__',\n",
       " '__file__',\n",
       " '__name__',\n",
       " '__package__',\n",
       " '__path__',\n",
       " '__version__',\n",
       " 'abs',\n",
       " 'affine',\n",
       " 'affine_prod',\n",
       " 'atom',\n",
       " 'atoms',\n",
       " 'axis_atom',\n",
       " 'bmat',\n",
       " 'constraints',\n",
       " 'conv',\n",
       " 'cumsum',\n",
       " 'diag',\n",
       " 'diff',\n",
       " 'elementwise',\n",
       " 'entr',\n",
       " 'error',\n",
       " 'exp',\n",
       " 'expressions',\n",
       " 'geo_mean',\n",
       " 'harmonic_mean',\n",
       " 'hstack',\n",
       " 'huber',\n",
       " 'installed_solvers',\n",
       " 'interface',\n",
       " 'inv_pos',\n",
       " 'kl_div',\n",
       " 'kron',\n",
       " 'lambda_max',\n",
       " 'lambda_min',\n",
       " 'lambda_sum_largest',\n",
       " 'lambda_sum_smallest',\n",
       " 'lin_ops',\n",
       " 'linearize',\n",
       " 'log',\n",
       " 'log1p',\n",
       " 'log_det',\n",
       " 'log_sum_exp',\n",
       " 'logistic',\n",
       " 'matrix_frac',\n",
       " 'max_elemwise',\n",
       " 'max_entries',\n",
       " 'min_elemwise',\n",
       " 'min_entries',\n",
       " 'mixed_norm',\n",
       " 'mul_elemwise',\n",
       " 'neg',\n",
       " 'norm',\n",
       " 'norm1',\n",
       " 'norm2',\n",
       " 'normInf',\n",
       " 'normNuc',\n",
       " 'norm_inf',\n",
       " 'norm_nuc',\n",
       " 'partial_optimize',\n",
       " 'pnorm',\n",
       " 'pos',\n",
       " 'power',\n",
       " 'problems',\n",
       " 'quad_form',\n",
       " 'quad_over_lin',\n",
       " 'reshape',\n",
       " 'scalene',\n",
       " 'semidefinite',\n",
       " 'settings',\n",
       " 'sigma_max',\n",
       " 'sqrt',\n",
       " 'square',\n",
       " 'sum_entries',\n",
       " 'sum_largest',\n",
       " 'sum_smallest',\n",
       " 'sum_squares',\n",
       " 'total_variation',\n",
       " 'trace',\n",
       " 'transforms',\n",
       " 'tv',\n",
       " 'upper_tri',\n",
       " 'utilities',\n",
       " 'vec',\n",
       " 'vstack']"
      ]
     },
     "execution_count": 13,
     "metadata": {},
     "output_type": "execute_result"
    }
   ],
   "source": [
    "import cvxpy\n",
    "dir(cvxpy)"
   ]
  },
  {
   "cell_type": "raw",
   "metadata": {},
   "source": []
  }
 ],
 "metadata": {
  "kernelspec": {
   "display_name": "Python 2",
   "language": "python",
   "name": "python2"
  },
  "language_info": {
   "codemirror_mode": {
    "name": "ipython",
    "version": 2
   },
   "file_extension": ".py",
   "mimetype": "text/x-python",
   "name": "python",
   "nbconvert_exporter": "python",
   "pygments_lexer": "ipython2",
   "version": "2.7.12"
  }
 },
 "nbformat": 4,
 "nbformat_minor": 0
}
