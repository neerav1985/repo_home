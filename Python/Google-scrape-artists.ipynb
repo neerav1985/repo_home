{
 "cells": [
  {
   "cell_type": "code",
   "execution_count": 32,
   "metadata": {},
   "outputs": [],
   "source": [
    "from bs4 import BeautifulSoup\n",
    "from urllib.request import urlopen, Request\n",
    "\n",
    "url = \"https://www.google.com/search?q=site%3Ainstagram.com+bio%3A%22artist%22+-inurl%3Astatus\"\n",
    "hdr = {'User-Agent': 'Mozilla/5.0'}\n",
    "req = Request(url,headers=hdr)\n",
    "page = urlopen(req)\n",
    "soup = BeautifulSoup(page)\n"
   ]
  },
  {
   "cell_type": "code",
   "execution_count": 35,
   "metadata": {},
   "outputs": [],
   "source": [
    "# soup.find_all(\"a\")\n",
    "# len(soup.select(\"a[href*=instagram]\"))\n",
    "aa = soup.select(\"a[href*='www.instagram.com']\")"
   ]
  },
  {
   "cell_type": "code",
   "execution_count": 45,
   "metadata": {},
   "outputs": [
    {
     "data": {
      "text/plain": [
       "'AG PARTHIBAN (@ag_parthiban) • Instagram photos and videoswww.instagram.com › ag_parthiban'"
      ]
     },
     "execution_count": 45,
     "metadata": {},
     "output_type": "execute_result"
    }
   ],
   "source": [
    "aa[0].getText()"
   ]
  },
  {
   "cell_type": "code",
   "execution_count": 52,
   "metadata": {},
   "outputs": [
    {
     "data": {
      "text/plain": [
       "<a href=\"/url?q=https://www.instagram.com/ag_parthiban/&amp;sa=U&amp;ved=2ahUKEwig19zbqfX1AhUKSWwGHaNiC40QFnoECAEQAg&amp;usg=AOvVaw3a4DvPnoTrr72w4EaYnRQD\"><h3 class=\"zBAuLc l97dzf\"><div class=\"BNeawe vvjwJb AP7Wnd\">AG PARTHIBAN (@ag_parthiban) • Instagram photos and videos</div></h3><div class=\"BNeawe UPmit AP7Wnd\">www.instagram.com › ag_parthiban</div></a>"
      ]
     },
     "execution_count": 52,
     "metadata": {},
     "output_type": "execute_result"
    }
   ],
   "source": [
    "import re\n",
    "re.search(aa[0],\"\""
   ]
  },
  {
   "cell_type": "code",
   "execution_count": 53,
   "metadata": {},
   "outputs": [
    {
     "data": {
      "text/plain": [
       "<a href=\"/url?q=https://www.instagram.com/p/CDjkxEnHEWd/%3Figshid%3D1kzb6nkaje3h7&amp;sa=U&amp;ved=2ahUKEwig19zbqfX1AhUKSWwGHaNiC40QFnoECAgQAg&amp;usg=AOvVaw06xdqZX7uunWN0-vRvqJx-\"><h3 class=\"zBAuLc l97dzf\"><div class=\"BNeawe vvjwJb AP7Wnd\">Sarper Baran on Instagram: “Artwork is ready to download link in bio ...</div></h3><div class=\"BNeawe UPmit AP7Wnd\">www.instagram.com › CDjkxEnHEWd</div></a>"
      ]
     },
     "execution_count": 53,
     "metadata": {},
     "output_type": "execute_result"
    }
   ],
   "source": [
    "aa[1]"
   ]
  },
  {
   "cell_type": "code",
   "execution_count": null,
   "metadata": {},
   "outputs": [],
   "source": []
  }
 ],
 "metadata": {
  "kernelspec": {
   "display_name": "Python 3",
   "language": "python",
   "name": "python3"
  },
  "language_info": {
   "codemirror_mode": {
    "name": "ipython",
    "version": 3
   },
   "file_extension": ".py",
   "mimetype": "text/x-python",
   "name": "python",
   "nbconvert_exporter": "python",
   "pygments_lexer": "ipython3",
   "version": "3.8.3"
  }
 },
 "nbformat": 4,
 "nbformat_minor": 4
}
