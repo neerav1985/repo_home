{
 "cells": [
  {
   "cell_type": "markdown",
   "metadata": {},
   "source": [
    "Prob of default from credit spread and tenor:\n",
    "Risk-neutral default probability implied from CDS is approximately $P=1-e^\\frac{-S * t}{1-R}$, where $S$ is the flat CDS spread and $R$ is the recovery rate.\n",
    "\n",
    "The CDS Spread can be solved using the inverse:\n",
    "\n",
    "$$S=\\ln(1-P) \\frac{R-1}{t}$$\n",
    "\n",
    "- $S$ is the spread expressed in percentage terms (not basis points)\n",
    "- $t$ are the years to maturity\n",
    "- $R$ is the recovery rate in percentage terms\n",
    "\n",
    "Hulls equation is a gross simplification. This equation is not perfect, but is far more accurate and works for all tenor points. It generally works well except when approaching boundary conditions (distressed credits)."
   ]
  },
  {
   "cell_type": "markdown",
   "metadata": {},
   "source": [
    "Put-call parity:\n",
    "\n",
    "$$ C(t) - P(t) = S(t)- K \\cdot B(t,T)$$\n",
    "where\n",
    "$C(t)$ is the value of the call at time t,\n",
    "$P(t)$ is the value of the put of the same expiration date,\n",
    "$S(t)$ is the [[spot price]] of the underlying asset,\n",
    "$K$ is the strike price, and\n",
    "$B(t,T)$is the present value of a [[zero-coupon bond]] that matures to $1 at time T. This is the present value factor for K."
   ]
  },
  {
   "cell_type": "markdown",
   "metadata": {},
   "source": [
    "Consider a 2-year bond with face value of $100, a 20% semi-annual coupon, and a yield of 4% semi-annually compounded. The total PV will be:\n",
    "\n",
    "$$V = \\sum_{i=1}^{n}PV_i = \\sum_{i=1}^{n} \\frac{CF_i} {(1+y/k)^{k \\cdot t_i}} = \\sum_{i=1}^{4} \\frac{10} {(1+.04/2)^i} + \\frac{100} {(1+.04/2)^4} $$\n",
    "\n",
    "$$= 9.804 + 9.612 + 9.423 + 9.238 + 92.385 = 130.462 $$\n",
    "\n",
    "The Macaulay duration is then\n",
    "\n",
    "$$\\text{MacD} = 0.5 \\cdot \\frac{9.804} { 130.462} + 1.0 \\cdot \\frac{9.612} { 130.462} + 1.5 \\cdot \\frac{9.423} { 130.462} + 2.0 \\cdot \\frac{9.238} { 130.462}  + 2.0 \\cdot \\frac{92.385} { 130.462}= 1.777\\,\\text{years} $$.\n",
    "\n",
    "The simple formula above gives (y/k =.04/2=.02, c/k = 20/2 = 10):\n",
    "\n",
    "$$ \\text{MacD} = \\left[  \\frac {(1.02)}{0.02} - \\frac {100(1.02)+4(10-2)}{10[(1.02)^{4}-1]+2} \\right] / 2 = 1.777\\,\\text{years}$$\n",
    "\n",
    "The modified duration, measured as percentage change in price per one percentage point change in yield, is:\n",
    "\n",
    "$$ \\text{ModD} = \\frac{\\text{MacD}}{(1+y/k)} = \\frac{1.777}{(1+.04/2)} = 1.742 $$ (% change in price per 1 percentage point change in yield)\n",
    "\n",
    "The DV01, measured as dollar change in price for a $100 nominal bond for a one percentage point change in yield, is\n",
    "\n",
    "$$ \\text{DV01} = \\frac{\\text{ModD} \\cdot 130.462}  {100} = 2.27 $$ ($ per 1 percentage point change in yield)\n",
    "\n",
    "where the division by 100 is because modified duration is the percentage change.\n",
    "\n",
    "If the ''flat'' floating interest rate is ''r'' and the bond price is ''B'', then the '''convexity''' ''C'' is defined as\n",
    "\n",
    "$$C = \\frac{1}{B} \\frac{d^2\\left(B(r)\\right)}{dr^2}. $$\n"
   ]
  }
 ],
 "metadata": {
  "kernelspec": {
   "display_name": "Python 2",
   "language": "python",
   "name": "python2"
  },
  "language_info": {
   "codemirror_mode": {
    "name": "ipython",
    "version": 2
   },
   "file_extension": ".py",
   "mimetype": "text/x-python",
   "name": "python",
   "nbconvert_exporter": "python",
   "pygments_lexer": "ipython2",
   "version": "2.7.12"
  }
 },
 "nbformat": 4,
 "nbformat_minor": 0
}
