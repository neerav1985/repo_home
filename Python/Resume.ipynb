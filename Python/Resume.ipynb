{
 "cells": [
  {
   "cell_type": "markdown",
   "metadata": {},
   "source": [
    "Liquidnet:\n",
    "Prob of cross model:\n",
    "$${\\displaystyle \\lambda (t|X_{i})=\\lambda _{0}(t)\\exp(\\beta _{1}X_{i1}+\\cdots +\\beta _{p}X_{ip})=\\lambda _{0}(t)\\exp(X_{i}\\cdot \\beta ).}$$\n",
    "- Survival analysis process\n",
    "- Cox proportional hazard model – for dark pools - probability of filling x% in y duration, given order and market characteristics, expected value can be calculated\n",
    "- Log rank test to compare survival curves for different categories of variables\n",
    "- Objective function maximum partial likelihood etimation\n",
    "- Model Selection in Survival Regression:\n",
    "    With censorship, it’s not correct to use a loss function like mean-squared-error or mean-absolute-loss. Instead, one measure is the c-index, or concordance-index. This measure evaluates the ordering of predicted times: how correct is the ordering? It is infact a generalization of AUC(Area under curve of ROC curve - TPR vs FPR), another common loss function, and is interpretted similarly:\n",
    "     - 0.5 is the expected result from random predictions,\n",
    "     - 1.0 is perfect concordance and,\n",
    "     - 0.0 is perfect anti-concordance (multiply predictions with -1 to get 1.0)\n",
    "\n",
    "Algo ranking model:\n",
    "$$\\underset{w}{min\\,} { \\frac{1}{2n_{samples}} ||X w - y||_2 ^ 2 + \\alpha ||w||_1}$$\n",
    "- Lasso regression - 10 features, sparse model\n",
    "- fit performance/fillrate-per-min of algos+params w.r.t order and market characteristics\n",
    "- Determine the penalty parameter $\\alpha$ based on K-fold cross-validation and minimum MSE\n",
    "- Heuristics to come up with combo of performance and fill-rate-per-min\n",
    "- Output 3 recommendations one each for best performance,fill-rate-per-min and combo\n",
    "- Lasso does not have coefficint significance test like regression - but - cross-validation can give you the best estimate of $\\alpha$\n",
    "\n",
    "Cash balance model:\n",
    "- Pre-trade market impact minimization\n",
    "- Expected cross maximization\n",
    "- Notional of Buy and Sell (cash balance) within a tolerance - penalty for not being in the given tolerance\n",
    "\n",
    "Spark:\n",
    "https://www.infoq.com/articles/apache-spark-introduction\n",
    "Spark Features\n",
    "\n",
    "Spark takes MapReduce to the next level with less expensive shuffles in the data processing. With capabilities like in-memory data storage and near real-time processing, the performance can be several times faster than other big data technologies.\n",
    "\n",
    "Spark also supports lazy evaluation of big data queries, which helps with optimization of the steps in data processing workflows. It provides a higher level API to improve developer productivity and a consistent architect model for big data solutions.\n",
    "\n",
    "Spark holds intermediate results in memory rather than writing them to disk which is very useful especially when you need to work on the same dataset multiple times. It’s designed to be an execution engine that works both in-memory and on-disk. Spark operators perform external operations when data does not fit in memory. Spark can be used for processing datasets that larger than the aggregate memory in a cluster.\n",
    "\n",
    "Spark will attempt to store as much as data in memory and then will spill to disk. It can store part of a data set in memory and the remaining data on the disk. You have to look at your data and use cases to assess the memory requirements. With this in-memory data storage, Spark comes with performance advantage.\n",
    "\n",
    "Other Spark features include:\n",
    "\n",
    "Supports more than just Map and Reduce functions.\n",
    "Optimizes arbitrary operator graphs.\n",
    "Lazy evaluation of big data queries which helps with the optimization of the overall data processing workflow.\n",
    "Provides concise and consistent APIs in Scala, Java and Python.\n",
    "Offers interactive shell for Scala and Python. This is not available in Java yet.\n",
    "\n",
    " "
   ]
  },
  {
   "cell_type": "code",
   "execution_count": null,
   "metadata": {
    "collapsed": true
   },
   "outputs": [],
   "source": []
  },
  {
   "cell_type": "markdown",
   "metadata": {},
   "source": [
    "The value of a call option for a non-dividend-paying underlying stock in terms of the Black–Scholes parameters is:\n",
    "{\\displaystyle {\\begin{aligned}C(S_{t},t)&=N(d_{1})S_{t}-N(d_{2})Ke^{-r(T-t)}\\\\d_{1}&={\\frac {1}{\\sigma {\\sqrt {T-t}}}}\\left[\\ln \\left({\\frac {S_{t}}{K}}\\right)+\\left(r+{\\frac {\\sigma ^{2}}{2}}\\right)(T-t)\\right]\\\\d_{2}&=d_{1}-\\sigma {\\sqrt {T-t}}\\\\\\end{aligned}}} {\\displaystyle {\\begin{aligned}C(S_{t},t)&=N(d_{1})S_{t}-N(d_{2})Ke^{-r(T-t)}\\\\d_{1}&={\\frac {1}{\\sigma {\\sqrt {T-t}}}}\\left[\\ln \\left({\\frac {S_{t}}{K}}\\right)+\\left(r+{\\frac {\\sigma ^{2}}{2}}\\right)(T-t)\\right]\\\\d_{2}&=d_{1}-\\sigma {\\sqrt {T-t}}\\\\\\end{aligned}}}\n",
    "The price of a corresponding put option based on put-call parity is:\n",
    "{\\displaystyle {\\begin{aligned}P(S_{t},t)&=Ke^{-r(T-t)}-S_{t}+C(S_{t},t)\\\\&=N(-d_{2})Ke^{-r(T-t)}-N(-d_{1})S_{t}\\end{aligned}}\\,} {\\displaystyle {\\begin{aligned}P(S_{t},t)&=Ke^{-r(T-t)}-S_{t}+C(S_{t},t)\\\\&=N(-d_{2})Ke^{-r(T-t)}-N(-d_{1})S_{t}\\end{aligned}}\\,}"
   ]
  },
  {
   "cell_type": "markdown",
   "metadata": {},
   "source": [
    "Black's formula:\n",
    "$$c=e^{{-rT}}[FN(d_{1})-KN(d_{2})]$$\n",
    "The corresponding put price is\n",
    "$$p=e^{{-rT}}[KN(-d_{2})-FN(-d_{1})]$$\n",
    "where\n",
    "$$d_{1}={\\frac  {\\ln(F/K)+(\\sigma ^{2}/2)T}{\\sigma {\\sqrt  {T}}}}$$\n",
    "$$d_{2}={\\frac  {\\ln(F/K)-(\\sigma ^{2}/2)T}{\\sigma {\\sqrt  {T}}}}=d_{1}-\\sigma {\\sqrt  {T}}$$\n"
   ]
  }
 ],
 "metadata": {
  "celltoolbar": "Raw Cell Format",
  "kernelspec": {
   "display_name": "Python 2",
   "language": "python",
   "name": "python2"
  },
  "language_info": {
   "codemirror_mode": {
    "name": "ipython",
    "version": 2
   },
   "file_extension": ".py",
   "mimetype": "text/x-python",
   "name": "python",
   "nbconvert_exporter": "python",
   "pygments_lexer": "ipython2",
   "version": "2.7.12"
  }
 },
 "nbformat": 4,
 "nbformat_minor": 0
}
