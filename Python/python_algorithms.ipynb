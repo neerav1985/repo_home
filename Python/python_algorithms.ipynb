{
 "cells": [
  {
   "cell_type": "code",
   "execution_count": 2,
   "metadata": {
    "collapsed": false
   },
   "outputs": [
    {
     "name": "stdout",
     "output_type": "stream",
     "text": [
      "Starting Thread-1\n",
      "Starting Thread-2\n",
      "Exiting Main Thread\n",
      "Thread-1: Sat May  6 09:05:38 2017\n",
      "Thread-2: Sat May  6 09:05:39 2017Thread-1: Sat May  6 09:05:39 2017\n",
      "\n",
      "Thread-1: Sat May  6 09:05:40 2017\n",
      "Thread-2: Sat May  6 09:05:41 2017\n",
      "Thread-1: Sat May  6 09:05:41 2017\n",
      "Thread-1: Sat May  6 09:05:42 2017\n",
      "Exiting Thread-1\n",
      "Thread-2: Sat May  6 09:05:43 2017\n",
      "Thread-2: Sat May  6 09:05:45 2017\n",
      "Thread-2: Sat May  6 09:05:47 2017\n",
      "Exiting Thread-2\n"
     ]
    }
   ],
   "source": [
    "#unsynchronized threads - no lock/acquire/release - or join to wait for \n",
    "import threading\n",
    "import time\n",
    "\n",
    "exitFlag = 0\n",
    "\n",
    "class myThread (threading.Thread):\n",
    "    def __init__(self, threadID, name, counter):\n",
    "        threading.Thread.__init__(self)\n",
    "        self.threadID = threadID\n",
    "        self.name = name\n",
    "        self.counter = counter\n",
    "    def run(self):\n",
    "        print \"Starting \" + self.name\n",
    "        print_time(self.name, self.counter, 5)\n",
    "        print \"Exiting \" + self.name\n",
    "\n",
    "def print_time(threadName, delay, counter):\n",
    "    while counter:\n",
    "        if exitFlag:\n",
    "            threadName.exit()\n",
    "        time.sleep(delay)\n",
    "        print \"%s: %s\" % (threadName, time.ctime(time.time()))\n",
    "        counter -= 1\n",
    "\n",
    "# Create new threads\n",
    "thread1 = myThread(1, \"Thread-1\", 1)\n",
    "thread2 = myThread(2, \"Thread-2\", 2)\n",
    "\n",
    "# Start new Threads\n",
    "thread1.start()\n",
    "thread2.start()\n",
    "\n",
    "print \"Exiting Main Thread\""
   ]
  },
  {
   "cell_type": "code",
   "execution_count": 1,
   "metadata": {
    "collapsed": false
   },
   "outputs": [
    {
     "name": "stdout",
     "output_type": "stream",
     "text": [
      "Starting Thread-1\n",
      "Starting Thread-2\n",
      "Thread-1: Sat May  6 09:05:29 2017\n",
      "Thread-1: Sat May  6 09:05:30 2017\n",
      "Thread-1: Sat May  6 09:05:31 2017\n",
      "Thread-2: Sat May  6 09:05:33 2017\n",
      "Thread-2: Sat May  6 09:05:35 2017\n",
      "Thread-2: Sat May  6 09:05:37 2017\n",
      "Exiting Main Thread\n"
     ]
    }
   ],
   "source": [
    "#Synchronized threads - lock/acquire/release for locking mechanism - join() to wait for all threads to finish\n",
    "\n",
    "import threading\n",
    "import time\n",
    "\n",
    "class myThread (threading.Thread):\n",
    "    def __init__(self, threadID, name, sleepdelay):\n",
    "        threading.Thread.__init__(self)\n",
    "        self.threadID = threadID\n",
    "        self.name = name\n",
    "        self.sleepdelay = sleepdelay\n",
    "    def run(self):\n",
    "        print \"Starting \" + self.name\n",
    "        # Get lock to synchronize threads\n",
    "        threadLock.acquire()\n",
    "        print_time(self.name, self.sleepdelay, 3)\n",
    "        # Free lock to release next thread\n",
    "        threadLock.release()\n",
    "\n",
    "def print_time(threadName, delay, counter):\n",
    "    while counter:\n",
    "        time.sleep(delay)\n",
    "        print \"%s: %s\" % (threadName, time.ctime(time.time()))\n",
    "        counter -= 1\n",
    "\n",
    "threadLock = threading.Lock()\n",
    "threads = []\n",
    "\n",
    "# Create new threads\n",
    "thread1 = myThread(1, \"Thread-1\", 1)\n",
    "thread2 = myThread(2, \"Thread-2\", 2)\n",
    "\n",
    "# Start new Threads\n",
    "thread1.start()\n",
    "thread2.start()\n",
    "\n",
    "# Add threads to thread list\n",
    "threads.append(thread1)\n",
    "threads.append(thread2)\n",
    "\n",
    "# Wait for all threads to complete\n",
    "for t in threads:\n",
    "    t.join()\n",
    "print \"Exiting Main Thread\""
   ]
  },
  {
   "cell_type": "code",
   "execution_count": 1,
   "metadata": {
    "collapsed": false
   },
   "outputs": [
    {
     "name": "stdout",
     "output_type": "stream",
     "text": [
      "Starting Thread-1\n",
      "Starting Thread-2\n",
      "Starting Thread-3\n",
      "Thread-3 processing One\n",
      "Thread-1 processing Two\n",
      "Thread-2 processing Three\n",
      "Thread-3 processing Four\n",
      "Thread-1 processing Five\n",
      "Exiting Thread-2\n",
      "Exiting Thread-3\n",
      " Exiting Thread-1\n",
      "Exiting Main Thread\n"
     ]
    }
   ],
   "source": [
    "import Queue\n",
    "import threading\n",
    "import time\n",
    "\n",
    "exitFlag = 0\n",
    "\n",
    "class myThread (threading.Thread):\n",
    "    def __init__(self, threadID, name, q):\n",
    "        threading.Thread.__init__(self)\n",
    "        self.threadID = threadID\n",
    "        self.name = name\n",
    "        self.q = q\n",
    "    def run(self):\n",
    "        print \"Starting \" + self.name\n",
    "        process_data(self.name, self.q)\n",
    "        print \"Exiting \" + self.name\n",
    "\n",
    "def process_data(threadName, q):\n",
    "    while not exitFlag:\n",
    "        queueLock.acquire()\n",
    "        if not workQueue.empty():\n",
    "            data = q.get()\n",
    "            queueLock.release()\n",
    "            print \"%s processing %s\" % (threadName, data)\n",
    "        else:\n",
    "            queueLock.release()\n",
    "        time.sleep(1)\n",
    "\n",
    "threadList = [\"Thread-1\", \"Thread-2\", \"Thread-3\"]\n",
    "nameList = [\"One\", \"Two\", \"Three\", \"Four\", \"Five\"]\n",
    "queueLock = threading.Lock()\n",
    "workQueue = Queue.Queue(10)\n",
    "threads = []\n",
    "threadID = 1\n",
    "\n",
    "# Create new threads\n",
    "for tName in threadList:\n",
    "    thread = myThread(threadID, tName, workQueue)\n",
    "    thread.start()\n",
    "    threads.append(thread)\n",
    "    threadID += 1\n",
    "\n",
    "# Fill the queue\n",
    "queueLock.acquire()\n",
    "for word in nameList:\n",
    "    workQueue.put(word)\n",
    "queueLock.release()\n",
    "\n",
    "# Wait for queue to empty\n",
    "while not workQueue.empty():\n",
    "    pass\n",
    "\n",
    "# Notify threads it's time to exit\n",
    "exitFlag = 1\n",
    "\n",
    "# Wait for all threads to complete\n",
    "for t in threads:\n",
    "    t.join()\n",
    "print \"Exiting Main Thread\"\n"
   ]
  },
  {
   "cell_type": "markdown",
   "metadata": {},
   "source": [
    "Semaphore vs Mutex:\n",
    "\n",
    "Semaphore: Use a semaphore when you (thread) want to sleep till some other thread tells you to wake up. Semaphore 'down' happens in one thread (producer) and semaphore 'up' (for same semaphore) happens in another thread (consumer) e.g.: In producer-consumer problem, producer wants to sleep till at least one buffer slot is empty - only the consumer thread can tell when a buffer slot is empty.\n",
    "\n",
    "Mutex: Use a mutex when you (thread) want to execute code that should not be executed by any other thread at the same time. Mutex 'down' happens in one thread and mutex 'up' must happen in the same thread later on. e.g.: If you are deleting a node from a global linked list, you do not want another thread to muck around with pointers while you are deleting the node. When you acquire a mutex and are busy deleting a node, if another thread tries to acquire the same mutex, it will be put to sleep till you release the mutex."
   ]
  },
  {
   "cell_type": "markdown",
   "metadata": {},
   "source": [
    "Process vs threads:\n",
    "Both processes and threads are independent sequences of execution. The typical difference is that threads (of the same process) run in a shared memory space, while processes run in separate memory spaces.\n",
    "\n",
    "I'm not sure what \"hardware\" vs \"software\" threads might be referring to. Threads are an operating environment feature, rather than a CPU feature (though the CPU typically has operations that make threads efficient).\n",
    "\n",
    "Erlang uses the term \"process\" because it does not expose a shared-memory multiprogramming model. Calling them \"threads\" would imply that they have shared memory."
   ]
  },
  {
   "cell_type": "code",
   "execution_count": 3,
   "metadata": {
    "collapsed": false
   },
   "outputs": [
    {
     "name": "stdout",
     "output_type": "stream",
     "text": [
      "[42, None, 'hello']\n"
     ]
    }
   ],
   "source": [
    "#Share data between processes in python using queue or pipe:\n",
    "\n",
    "from multiprocessing import Process, Queue\n",
    "\n",
    "def f(q):\n",
    "    q.put([42, None, 'hello'])\n",
    "\n",
    "if __name__ == '__main__':\n",
    "    q = Queue()\n",
    "    p = Process(target=f, args=(q,))\n",
    "    p.start()\n",
    "    print q.get()    # prints \"[42, None, 'hello']\"\n",
    "    p.join()"
   ]
  },
  {
   "cell_type": "code",
   "execution_count": 2,
   "metadata": {
    "collapsed": false
   },
   "outputs": [
    {
     "name": "stdout",
     "output_type": "stream",
     "text": [
      "[1, 4, 9]\n"
     ]
    }
   ],
   "source": [
    "from multiprocessing import Pool\n",
    "\n",
    "def f(x):\n",
    "    return x*x\n",
    "\n",
    "if __name__ == '__main__':\n",
    "    p = Pool(5)\n",
    "    print(p.map(f, [1, 2, 3]))"
   ]
  },
  {
   "cell_type": "code",
   "execution_count": 5,
   "metadata": {
    "collapsed": false
   },
   "outputs": [
    {
     "name": "stdout",
     "output_type": "stream",
     "text": [
      "2\n",
      "3\n"
     ]
    }
   ],
   "source": [
    "a,b=[2,3]\n",
    "print a\n",
    "print b"
   ]
  },
  {
   "cell_type": "code",
   "execution_count": 11,
   "metadata": {
    "collapsed": false
   },
   "outputs": [
    {
     "data": {
      "text/plain": [
       "'qwe'"
      ]
     },
     "execution_count": 11,
     "metadata": {},
     "output_type": "execute_result"
    }
   ],
   "source": [
    "a=[]\n",
    "'asd' if a else 'qwe'"
   ]
  },
  {
   "cell_type": "code",
   "execution_count": 19,
   "metadata": {
    "collapsed": false
   },
   "outputs": [
    {
     "data": {
      "text/plain": [
       "['10.5.5.234', '23.45.23.45']"
      ]
     },
     "execution_count": 19,
     "metadata": {},
     "output_type": "execute_result"
    }
   ],
   "source": [
    "import re\n",
    "re.findall(r'(\\d+\\.\\d+\\.\\d+\\.\\d+)','10.5.5.234 12.34 45.23 23.45.23.45')\n"
   ]
  },
  {
   "cell_type": "code",
   "execution_count": 13,
   "metadata": {
    "collapsed": false
   },
   "outputs": [
    {
     "data": {
      "text/plain": [
       "'erewere'"
      ]
     },
     "execution_count": 13,
     "metadata": {},
     "output_type": "execute_result"
    }
   ],
   "source": [
    "#biggest palindrome\n",
    "def biggestpalindrome(a=\"QWEREWERET\"):\n",
    "    a=a.lower()\n",
    "    out=[]\n",
    "    for start in xrange(len(a)):\n",
    "        for end in xrange(start+1,len(a)):\n",
    "            temp=a[start:end]\n",
    "            if temp==temp[::-1]:\n",
    "                out.append(temp)\n",
    "    return out[out.index(max(out,key=len))]\n",
    "biggestpalindrome()    \n",
    "    "
   ]
  },
  {
   "cell_type": "code",
   "execution_count": 5,
   "metadata": {
    "collapsed": false
   },
   "outputs": [
    {
     "name": "stdout",
     "output_type": "stream",
     "text": [
      "[2, 2, 4, 6, 8, 21, 23, 54, 54]\n"
     ]
    }
   ],
   "source": [
    "def quicksort(array=[23,4,2,54,2,54,21,6,8]):\n",
    "    if len(array)<=1: return array\n",
    "    left,right,equal=[],[],[]\n",
    "    equal.append(array[0])\n",
    "    for i in xrange(1,len(array)):\n",
    "        if array[i]<equal[0]:\n",
    "            left.append(array[i])\n",
    "        elif array[i]>equal[0]:\n",
    "            right.append(array[i])\n",
    "        else:\n",
    "            equal.append(array[i])\n",
    "    return quicksort(left)+equal+quicksort(right)\n",
    "print quicksort()"
   ]
  },
  {
   "cell_type": "code",
   "execution_count": 3,
   "metadata": {
    "collapsed": false
   },
   "outputs": [
    {
     "name": "stdout",
     "output_type": "stream",
     "text": [
      "[2, 2, 4, 6, 8, 21, 23, 54, 54]\n"
     ]
    }
   ],
   "source": [
    "#mergesort:\n",
    "#worstcase O(nlogn), average case O(nlogn)\n",
    "def merge(left,right):\n",
    "    out = []\n",
    "    while left and right:\n",
    "        if left[0] <= right[0]:\n",
    "            out.append(left[0])\n",
    "            left=left[1:]\n",
    "        else:\n",
    "            out.append(right[0])\n",
    "            right=right[1:]\n",
    "    out+=left+right #left or right will be empty list\n",
    "    return out\n",
    "            \n",
    "            \n",
    "def mergesort(a):\n",
    "    if len(a)<=1:return a\n",
    "    return merge(mergesort(a[:len(a)/2]),mergesort(a[len(a)/2:]))\n",
    "    \n",
    "\n",
    "print mergesort([23,4,2,54,2,54,21,6,8])"
   ]
  },
  {
   "cell_type": "code",
   "execution_count": 12,
   "metadata": {
    "collapsed": false
   },
   "outputs": [
    {
     "name": "stdout",
     "output_type": "stream",
     "text": [
      "[2, 2, 4, 6, 8, 21, 23, 54, 54]\n"
     ]
    }
   ],
   "source": [
    "#insertionsort \n",
    "#best O(n), worst O(n^2), average O(n^2)\n",
    "#steps:\n",
    "#    starting with first and second value, consecutive comparisons\n",
    "#    for each i as the highest index cut-off brings the smallest value to the leftmost point\n",
    "def insertionsort(array=[23,4,2,54,2,54,21,6,8]):\n",
    "    for i in xrange(1,len(array)):\n",
    "        for j in xrange(i,0,-1):\n",
    "            if array[j]<array[j-1]:\n",
    "                array[j],array[j-1]=array[j-1],array[j]\n",
    "            else:\n",
    "                break\n",
    "    return array\n",
    "print insertionsort()"
   ]
  },
  {
   "cell_type": "code",
   "execution_count": 20,
   "metadata": {
    "collapsed": false
   },
   "outputs": [
    {
     "name": "stdout",
     "output_type": "stream",
     "text": [
      "[2, 2, 4, 6, 8, 21, 23, 54, 54]\n"
     ]
    }
   ],
   "source": [
    "#bubblesort \n",
    "#steps:\n",
    "#    consecutive comparison\n",
    "#   for each i, bring the highest value to the rightmost point\n",
    "#best O(n), worst O(n^2), average O(n^2)\n",
    "def bubblesort(array=[23,4,2,54,2,54,21,6,8]):\n",
    "    for i in xrange(1,len(array)):\n",
    "        for j in xrange(1,len(array)-i+1):\n",
    "            if array[j]<array[j-1]:\n",
    "                array[j],array[j-1]=array[j-1],array[j]\n",
    "            else:\n",
    "                pass\n",
    "    return array\n",
    "print bubblesort()\n",
    "            "
   ]
  },
  {
   "cell_type": "code",
   "execution_count": 146,
   "metadata": {
    "collapsed": false
   },
   "outputs": [
    {
     "name": "stdout",
     "output_type": "stream",
     "text": [
      "[2, 2, 4, 6, 8, 21, 23, 54, 54]\n",
      "['1', '2', '3', '3', '7', 'A', 'A', 'D', 'D', 'S', 'S']\n"
     ]
    }
   ],
   "source": [
    "#quicksort with left,right and equal lists\n",
    "#best O(n), worst O(n^2), average O(nlogn)\n",
    "def quicksort(array=[23,4,2,54,2,54,21,6,8]):\n",
    "    if len(array)<=1: return array\n",
    "    left,equal,right=[],[],[]\n",
    "    equal.append(array[0])\n",
    "    for i in xrange(1,len(array)):\n",
    "        if array[i]<equal[0]:left.append(array[i])\n",
    "        elif array[i]==equal[0]:equal.append(array[i])\n",
    "        else: right.append(array[i])\n",
    "    return quicksort(left)+equal+quicksort(right)    \n",
    "    \n",
    "print quicksort()\n",
    "print quicksort(\"ASDASD12373\")"
   ]
  },
  {
   "cell_type": "code",
   "execution_count": 95,
   "metadata": {
    "collapsed": false
   },
   "outputs": [
    {
     "data": {
      "text/plain": [
       "[2, 2, 4, 6, 8, 21, 23, 54, 54]"
      ]
     },
     "execution_count": 95,
     "metadata": {},
     "output_type": "execute_result"
    }
   ],
   "source": [
    "#quicksort in-place\n",
    "#best O(n), worst O(n^2), average O(nlogn)\n",
    "def partition(array,lo,hi):\n",
    "    pivot=array[hi]\n",
    "    i=lo-1\n",
    "    for j in xrange(lo,hi):\n",
    "        if array[j]<pivot:\n",
    "            i+=1\n",
    "            array[i],array[j]=array[j],array[i]\n",
    "    array[i+1],array[hi]=array[hi],array[i+1]\n",
    "    return i+1\n",
    "def quicksort(array,lo,hi):\n",
    "    if lo<hi:\n",
    "        p=partition(array,lo,hi)\n",
    "        quicksort(array,lo,p-1)\n",
    "        quicksort(array,p+1,hi)\n",
    "array=[23,4,2,54,2,54,21,6,8]\n",
    "quicksort(array,0,8)\n",
    "array"
   ]
  },
  {
   "cell_type": "code",
   "execution_count": 114,
   "metadata": {
    "collapsed": false
   },
   "outputs": [
    {
     "name": "stdout",
     "output_type": "stream",
     "text": [
      "right\n",
      "equal\n",
      "('Found node:', 5)\n"
     ]
    }
   ],
   "source": [
    "class Node:\n",
    "    def __init__(self,val):\n",
    "        self.v=val\n",
    "        self.l=None\n",
    "        self.r=None\n",
    "class BinaryTree:\n",
    "    def __init__(self):\n",
    "        self.root=None\n",
    "    def add(self,val):\n",
    "        if not self.root:\n",
    "            self.root = Node(val)\n",
    "        else:\n",
    "            self._add(self.root,val)\n",
    "    def _add(self, node, val):\n",
    "        if val < node.v:\n",
    "            if node.l:\n",
    "                self._add(node.l,val)\n",
    "            else:\n",
    "                node.l=Node(val)\n",
    "        if val >= node.v:\n",
    "            if node.r:\n",
    "                self._add(node.r,val)\n",
    "            else:\n",
    "                node.r=Node(val)\n",
    "    def find(self,val):\n",
    "        if self.root:\n",
    "            return self._find(self.root,val)\n",
    "        else:\n",
    "            return None\n",
    "    def _find(self,node,val):\n",
    "        if val==node.v:\n",
    "            print \"equal\"\n",
    "            return \"Found node:\",val\n",
    "        elif val<node.v and node.l:\n",
    "            print \"left\"\n",
    "            return self._find(node.l,val)\n",
    "        elif val>node.v and node.r:\n",
    "            print \"right\"\n",
    "            return self._find(node.r,val)\n",
    "    def printTree(self):\n",
    "        if self.root:\n",
    "            self._printTree(self.root)\n",
    "    def _printTree(self,node):\n",
    "        if node:\n",
    "            self._printTree(node.l)\n",
    "            print node.v\n",
    "            self._printTree(node.r)\n",
    "            \n",
    "            \n",
    "\n",
    "b=BinaryTree()\n",
    "b.add(4)\n",
    "b.add(1)\n",
    "b.add(3)\n",
    "b.add(5)\n",
    "b.add(6)\n",
    "b.add(7)\n",
    "b.add(8)\n",
    "b.add(2)\n",
    "b.add(9)\n",
    "\n",
    "b.printTree()            \n",
    "print b.find(5)            \n",
    "#b.root.r.v"
   ]
  },
  {
   "cell_type": "code",
   "execution_count": 137,
   "metadata": {
    "collapsed": false
   },
   "outputs": [
    {
     "name": "stdout",
     "output_type": "stream",
     "text": [
      "59049\n"
     ]
    }
   ],
   "source": [
    "#power function in o(logn)\n",
    "p_powers = {}\n",
    "def calcpower(p,q):\n",
    "    global p_powers\n",
    "    if q==0:return 1\n",
    "    if q==1: \n",
    "        p_powers[q]=p\n",
    "        return p_powers[q]\n",
    "    elif q not in p_powers:\n",
    "        temp = calcpower(p,q/2)\n",
    "        p_powers[q] = temp*temp\n",
    "        return p_powers[q]\n",
    "    else:\n",
    "        return p_powers[q]\n",
    "def getpower(p,q):\n",
    "    out = 1\n",
    "    for i,pwr in enumerate(reversed(bin(q)[2:])):\n",
    "        temp = \"1\"+\"0\"*i\n",
    "        if pwr=='1': out*=calcpower(p,int(temp,2))\n",
    "    return out\n",
    "print getpower(3,10)\n",
    "    "
   ]
  },
  {
   "cell_type": "code",
   "execution_count": 143,
   "metadata": {
    "collapsed": false
   },
   "outputs": [
    {
     "name": "stdout",
     "output_type": "stream",
     "text": [
      "[2, 16, 32]\n"
     ]
    }
   ],
   "source": [
    "#any number to binary subset\n",
    "def getbinarysubset(n):\n",
    "    out = []\n",
    "    for i,pwr in enumerate(reversed(bin(n)[2:])):\n",
    "        if pwr=='1':out.append(int(\"1\"+\"0\"*i,2))\n",
    "    return out\n",
    "print getbinarysubset(50)        "
   ]
  },
  {
   "cell_type": "code",
   "execution_count": 151,
   "metadata": {
    "collapsed": false
   },
   "outputs": [
    {
     "data": {
      "text/plain": [
       "True"
      ]
     },
     "execution_count": 151,
     "metadata": {},
     "output_type": "execute_result"
    }
   ],
   "source": [
    "#XOR in python:\n",
    "bool(1) != bool(0) #'1' and '0' don't work"
   ]
  },
  {
   "cell_type": "code",
   "execution_count": 155,
   "metadata": {
    "collapsed": false
   },
   "outputs": [
    {
     "data": {
      "text/plain": [
       "7"
      ]
     },
     "execution_count": 155,
     "metadata": {},
     "output_type": "execute_result"
    }
   ],
   "source": [
    "10 ^ 13"
   ]
  },
  {
   "cell_type": "code",
   "execution_count": 157,
   "metadata": {
    "collapsed": false
   },
   "outputs": [
    {
     "data": {
      "text/plain": [
       "[0, 2, 4, 6, 8]"
      ]
     },
     "execution_count": 157,
     "metadata": {},
     "output_type": "execute_result"
    }
   ],
   "source": [
    "map(lambda x: x*2,range(5))"
   ]
  },
  {
   "cell_type": "code",
   "execution_count": 162,
   "metadata": {
    "collapsed": false
   },
   "outputs": [
    {
     "data": {
      "text/plain": [
       "['ASD', ' qwe\\n']"
      ]
     },
     "execution_count": 162,
     "metadata": {},
     "output_type": "execute_result"
    }
   ],
   "source": [
    "import re\n",
    "re.findall(r'\\D+',\"ASD5 qwe\\n\")"
   ]
  },
  {
   "cell_type": "code",
   "execution_count": 167,
   "metadata": {
    "collapsed": false
   },
   "outputs": [
    {
     "data": {
      "text/plain": [
       "6"
      ]
     },
     "execution_count": 167,
     "metadata": {},
     "output_type": "execute_result"
    }
   ],
   "source": [
    "len(re.findall(r\"[-\\s(']*foo[-\\s).']+\",\"foo bar (foo) bar foo-bar foo_bar foo'bar bar-foo bar, foo.\"))\n"
   ]
  }
 ],
 "metadata": {
  "kernelspec": {
   "display_name": "Python 2",
   "language": "python",
   "name": "python2"
  },
  "language_info": {
   "codemirror_mode": {
    "name": "ipython",
    "version": 2
   },
   "file_extension": ".py",
   "mimetype": "text/x-python",
   "name": "python",
   "nbconvert_exporter": "python",
   "pygments_lexer": "ipython2",
   "version": "2.7.12"
  }
 },
 "nbformat": 4,
 "nbformat_minor": 0
}
